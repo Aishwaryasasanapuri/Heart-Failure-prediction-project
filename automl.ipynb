{
 "cells": [
  {
   "cell_type": "markdown",
   "metadata": {},
   "source": [
    "# Automated ML\n",
    "\n",
    "TODO: Import Dependencies. In the cell below, import all the dependencies that you will need to complete the project."
   ]
  },
  {
   "cell_type": "code",
   "execution_count": 1,
   "metadata": {
    "gather": {
     "logged": 1598423888013
    },
    "jupyter": {
     "outputs_hidden": false,
     "source_hidden": false
    },
    "nteract": {
     "transient": {
      "deleting": false
     }
    }
   },
   "outputs": [
    {
     "name": "stdout",
     "output_type": "stream",
     "text": [
      "SDK version: 1.19.0\n"
     ]
    }
   ],
   "source": [
    "import logging\n",
    "import os\n",
    "import csv\n",
    "\n",
    "from matplotlib import pyplot as plt\n",
    "import numpy as np\n",
    "import pandas as pd\n",
    "from sklearn import datasets\n",
    "import pkg_resources\n",
    "\n",
    "import azureml.core\n",
    "from azureml.core.experiment import Experiment\n",
    "from azureml.core.workspace import Workspace\n",
    "from azureml.train.automl import AutoMLConfig\n",
    "from azureml.core.dataset import Dataset\n",
    "from azureml.core.environment import Environment\n",
    "from azureml.core.model import InferenceConfig\n",
    "from azureml.core.webservice import AciWebservice\n",
    "from azureml.core.model import Model\n",
    "\n",
    "from azureml.pipeline.steps import AutoMLStep\n",
    "\n",
    "# Check core SDK version number\n",
    "print(\"SDK version:\", azureml.core.VERSION)"
   ]
  },
  {
   "cell_type": "markdown",
   "metadata": {},
   "source": [
    "### Workspace "
   ]
  },
  {
   "cell_type": "code",
   "execution_count": 2,
   "metadata": {
    "gather": {
     "logged": 1598423890461
    },
    "jupyter": {
     "outputs_hidden": false,
     "source_hidden": false
    },
    "nteract": {
     "transient": {
      "deleting": false
     }
    }
   },
   "outputs": [
    {
     "name": "stdout",
     "output_type": "stream",
     "text": [
      "Workspace name: quick-starts-ws-134744\n",
      "Azure region: southcentralus\n",
      "Subscription id: 3d1a56d2-7c81-4118-9790-f85d1acf0c77\n",
      "Resource group: aml-quickstarts-134744\n"
     ]
    }
   ],
   "source": [
    "from azureml.core import Workspace, Experiment\n",
    "\n",
    "ws = Workspace.from_config()\n",
    "exp = Experiment(workspace=ws, name=\"automl-udacity-capstone\")\n",
    "\n",
    "print('Workspace name: ' + ws.name, \n",
    "      'Azure region: ' + ws.location, \n",
    "      'Subscription id: ' + ws.subscription_id, \n",
    "      'Resource group: ' + ws.resource_group, sep = '\\n')\n",
    "\n",
    "run = exp.start_logging()"
   ]
  },
  {
   "cell_type": "markdown",
   "metadata": {},
   "source": [
    "### Configure Compute Cluster"
   ]
  },
  {
   "cell_type": "code",
   "execution_count": 3,
   "metadata": {},
   "outputs": [
    {
     "name": "stdout",
     "output_type": "stream",
     "text": [
      "Creating\n",
      "Succeeded.................................................................................................................\n",
      "AmlCompute wait for completion finished\n",
      "\n",
      "Wait timeout has been reached\n",
      "Current provisioning state of AmlCompute is \"Succeeded\" and current node count is \"0\"\n"
     ]
    }
   ],
   "source": [
    "from azureml.core.compute import AmlCompute\n",
    "from azureml.core.compute import ComputeTarget\n",
    "from azureml.core.compute_target import ComputeTargetException\n",
    "\n",
    "amlcompute_cluster_name = \"automl-project\"\n",
    "\n",
    "try:\n",
    "    compute_target = ComputeTarget(workspace=ws, name=amlcompute_cluster_name)\n",
    "    print('Found existing cluster, use it.')\n",
    "except ComputeTargetException:\n",
    "    compute_config = AmlCompute.provisioning_configuration(vm_size='STANDARD_D2_V2',\n",
    "                                                           max_nodes=4)\n",
    "    compute_target = ComputeTarget.create(ws, amlcompute_cluster_name, compute_config)\n",
    "\n",
    "compute_target.wait_for_completion(show_output=True, min_node_count = 1, timeout_in_minutes =  2)\n"
   ]
  },
  {
   "cell_type": "markdown",
   "metadata": {},
   "source": [
    "## Dataset\n",
    "\n",
    "### Overview\n",
    "TODO: In this markdown cell, give an overview of the dataset you are using. Also mention the task you will be performing.\n",
    "\n",
    "Citation: Davide Chicco, Giuseppe Jurman: \"Machine learning can predict survival of patients with heart failure from serum creatinine and ejection fraction alone\". BMC Medical Informatics and Decision Making 20, 16 (2020)\n",
    "\n",
    "\n",
    "Heart failure is a common event caused by CVDs and this dataset contains 12 features that can be used to predict mortality by heart failure.\n",
    "\n",
    "**12 clinical features:**\n",
    "\n",
    "- age: age of the patient (years)\n",
    "- anaemia: decrease of red blood cells or hemoglobin (boolean)\n",
    "- high blood pressure: if the patient has hypertension (boolean)\n",
    "- creatinine phosphokinase (CPK): level of the CPK enzyme in the blood (mcg/L)\n",
    "- diabetes: if the patient has diabetes (boolean)\n",
    "- ejection fraction: percentage of blood leaving the heart at each contraction (percentage)\n",
    "- platelets: platelets in the blood (kiloplatelets/mL)\n",
    "- sex: woman or man (binary)\n",
    "- serum creatinine: level of serum creatinine in the blood (mg/dL)\n",
    "- serum sodium: level of serum sodium in the blood (mEq/L)\n",
    "- smoking: if the patient smokes or not (boolean)\n",
    "- time: follow-up period (days)\n",
    "\n",
    "Most cardiovascular diseases can be prevented by addressing behavioural risk factors such as tobacco use, unhealthy diet and obesity, physical inactivity and harmful use of alcohol using population-wide strategies.\n",
    "\n",
    "Here, we performed Logistic Regression on this Dataset inorder to predict the mortality by heart failure.\n",
    "\n",
    "TODO: Get data. In the cell below, write code to access the data you will be using in this project. Remember that the dataset needs to be external.\n"
   ]
  },
  {
   "cell_type": "code",
   "execution_count": 4,
   "metadata": {},
   "outputs": [
    {
     "data": {
      "text/html": [
       "<div>\n",
       "<style scoped>\n",
       "    .dataframe tbody tr th:only-of-type {\n",
       "        vertical-align: middle;\n",
       "    }\n",
       "\n",
       "    .dataframe tbody tr th {\n",
       "        vertical-align: top;\n",
       "    }\n",
       "\n",
       "    .dataframe thead th {\n",
       "        text-align: right;\n",
       "    }\n",
       "</style>\n",
       "<table border=\"1\" class=\"dataframe\">\n",
       "  <thead>\n",
       "    <tr style=\"text-align: right;\">\n",
       "      <th></th>\n",
       "      <th>age</th>\n",
       "      <th>anaemia</th>\n",
       "      <th>creatinine_phosphokinase</th>\n",
       "      <th>diabetes</th>\n",
       "      <th>ejection_fraction</th>\n",
       "      <th>high_blood_pressure</th>\n",
       "      <th>platelets</th>\n",
       "      <th>serum_creatinine</th>\n",
       "      <th>serum_sodium</th>\n",
       "      <th>sex</th>\n",
       "      <th>smoking</th>\n",
       "      <th>time</th>\n",
       "      <th>DEATH_EVENT</th>\n",
       "    </tr>\n",
       "  </thead>\n",
       "  <tbody>\n",
       "    <tr>\n",
       "      <th>0</th>\n",
       "      <td>75.0</td>\n",
       "      <td>0</td>\n",
       "      <td>582</td>\n",
       "      <td>0</td>\n",
       "      <td>20</td>\n",
       "      <td>1</td>\n",
       "      <td>265000.00</td>\n",
       "      <td>1.9</td>\n",
       "      <td>130</td>\n",
       "      <td>1</td>\n",
       "      <td>0</td>\n",
       "      <td>4</td>\n",
       "      <td>1</td>\n",
       "    </tr>\n",
       "    <tr>\n",
       "      <th>1</th>\n",
       "      <td>55.0</td>\n",
       "      <td>0</td>\n",
       "      <td>7861</td>\n",
       "      <td>0</td>\n",
       "      <td>38</td>\n",
       "      <td>0</td>\n",
       "      <td>263358.03</td>\n",
       "      <td>1.1</td>\n",
       "      <td>136</td>\n",
       "      <td>1</td>\n",
       "      <td>0</td>\n",
       "      <td>6</td>\n",
       "      <td>1</td>\n",
       "    </tr>\n",
       "    <tr>\n",
       "      <th>2</th>\n",
       "      <td>65.0</td>\n",
       "      <td>0</td>\n",
       "      <td>146</td>\n",
       "      <td>0</td>\n",
       "      <td>20</td>\n",
       "      <td>0</td>\n",
       "      <td>162000.00</td>\n",
       "      <td>1.3</td>\n",
       "      <td>129</td>\n",
       "      <td>1</td>\n",
       "      <td>1</td>\n",
       "      <td>7</td>\n",
       "      <td>1</td>\n",
       "    </tr>\n",
       "    <tr>\n",
       "      <th>3</th>\n",
       "      <td>50.0</td>\n",
       "      <td>1</td>\n",
       "      <td>111</td>\n",
       "      <td>0</td>\n",
       "      <td>20</td>\n",
       "      <td>0</td>\n",
       "      <td>210000.00</td>\n",
       "      <td>1.9</td>\n",
       "      <td>137</td>\n",
       "      <td>1</td>\n",
       "      <td>0</td>\n",
       "      <td>7</td>\n",
       "      <td>1</td>\n",
       "    </tr>\n",
       "    <tr>\n",
       "      <th>4</th>\n",
       "      <td>65.0</td>\n",
       "      <td>1</td>\n",
       "      <td>160</td>\n",
       "      <td>1</td>\n",
       "      <td>20</td>\n",
       "      <td>0</td>\n",
       "      <td>327000.00</td>\n",
       "      <td>2.7</td>\n",
       "      <td>116</td>\n",
       "      <td>0</td>\n",
       "      <td>0</td>\n",
       "      <td>8</td>\n",
       "      <td>1</td>\n",
       "    </tr>\n",
       "    <tr>\n",
       "      <th>...</th>\n",
       "      <td>...</td>\n",
       "      <td>...</td>\n",
       "      <td>...</td>\n",
       "      <td>...</td>\n",
       "      <td>...</td>\n",
       "      <td>...</td>\n",
       "      <td>...</td>\n",
       "      <td>...</td>\n",
       "      <td>...</td>\n",
       "      <td>...</td>\n",
       "      <td>...</td>\n",
       "      <td>...</td>\n",
       "      <td>...</td>\n",
       "    </tr>\n",
       "    <tr>\n",
       "      <th>294</th>\n",
       "      <td>62.0</td>\n",
       "      <td>0</td>\n",
       "      <td>61</td>\n",
       "      <td>1</td>\n",
       "      <td>38</td>\n",
       "      <td>1</td>\n",
       "      <td>155000.00</td>\n",
       "      <td>1.1</td>\n",
       "      <td>143</td>\n",
       "      <td>1</td>\n",
       "      <td>1</td>\n",
       "      <td>270</td>\n",
       "      <td>0</td>\n",
       "    </tr>\n",
       "    <tr>\n",
       "      <th>295</th>\n",
       "      <td>55.0</td>\n",
       "      <td>0</td>\n",
       "      <td>1820</td>\n",
       "      <td>0</td>\n",
       "      <td>38</td>\n",
       "      <td>0</td>\n",
       "      <td>270000.00</td>\n",
       "      <td>1.2</td>\n",
       "      <td>139</td>\n",
       "      <td>0</td>\n",
       "      <td>0</td>\n",
       "      <td>271</td>\n",
       "      <td>0</td>\n",
       "    </tr>\n",
       "    <tr>\n",
       "      <th>296</th>\n",
       "      <td>45.0</td>\n",
       "      <td>0</td>\n",
       "      <td>2060</td>\n",
       "      <td>1</td>\n",
       "      <td>60</td>\n",
       "      <td>0</td>\n",
       "      <td>742000.00</td>\n",
       "      <td>0.8</td>\n",
       "      <td>138</td>\n",
       "      <td>0</td>\n",
       "      <td>0</td>\n",
       "      <td>278</td>\n",
       "      <td>0</td>\n",
       "    </tr>\n",
       "    <tr>\n",
       "      <th>297</th>\n",
       "      <td>45.0</td>\n",
       "      <td>0</td>\n",
       "      <td>2413</td>\n",
       "      <td>0</td>\n",
       "      <td>38</td>\n",
       "      <td>0</td>\n",
       "      <td>140000.00</td>\n",
       "      <td>1.4</td>\n",
       "      <td>140</td>\n",
       "      <td>1</td>\n",
       "      <td>1</td>\n",
       "      <td>280</td>\n",
       "      <td>0</td>\n",
       "    </tr>\n",
       "    <tr>\n",
       "      <th>298</th>\n",
       "      <td>50.0</td>\n",
       "      <td>0</td>\n",
       "      <td>196</td>\n",
       "      <td>0</td>\n",
       "      <td>45</td>\n",
       "      <td>0</td>\n",
       "      <td>395000.00</td>\n",
       "      <td>1.6</td>\n",
       "      <td>136</td>\n",
       "      <td>1</td>\n",
       "      <td>1</td>\n",
       "      <td>285</td>\n",
       "      <td>0</td>\n",
       "    </tr>\n",
       "  </tbody>\n",
       "</table>\n",
       "<p>299 rows × 13 columns</p>\n",
       "</div>"
      ],
      "text/plain": [
       "      age  anaemia  creatinine_phosphokinase  diabetes  ejection_fraction  \\\n",
       "0    75.0        0                       582         0                 20   \n",
       "1    55.0        0                      7861         0                 38   \n",
       "2    65.0        0                       146         0                 20   \n",
       "3    50.0        1                       111         0                 20   \n",
       "4    65.0        1                       160         1                 20   \n",
       "..    ...      ...                       ...       ...                ...   \n",
       "294  62.0        0                        61         1                 38   \n",
       "295  55.0        0                      1820         0                 38   \n",
       "296  45.0        0                      2060         1                 60   \n",
       "297  45.0        0                      2413         0                 38   \n",
       "298  50.0        0                       196         0                 45   \n",
       "\n",
       "     high_blood_pressure  platelets  serum_creatinine  serum_sodium  sex  \\\n",
       "0                      1  265000.00               1.9           130    1   \n",
       "1                      0  263358.03               1.1           136    1   \n",
       "2                      0  162000.00               1.3           129    1   \n",
       "3                      0  210000.00               1.9           137    1   \n",
       "4                      0  327000.00               2.7           116    0   \n",
       "..                   ...        ...               ...           ...  ...   \n",
       "294                    1  155000.00               1.1           143    1   \n",
       "295                    0  270000.00               1.2           139    0   \n",
       "296                    0  742000.00               0.8           138    0   \n",
       "297                    0  140000.00               1.4           140    1   \n",
       "298                    0  395000.00               1.6           136    1   \n",
       "\n",
       "     smoking  time  DEATH_EVENT  \n",
       "0          0     4            1  \n",
       "1          0     6            1  \n",
       "2          1     7            1  \n",
       "3          0     7            1  \n",
       "4          0     8            1  \n",
       "..       ...   ...          ...  \n",
       "294        1   270            0  \n",
       "295        0   271            0  \n",
       "296        0   278            0  \n",
       "297        1   280            0  \n",
       "298        1   285            0  \n",
       "\n",
       "[299 rows x 13 columns]"
      ]
     },
     "execution_count": 4,
     "metadata": {},
     "output_type": "execute_result"
    }
   ],
   "source": [
    "from azureml.core import Dataset\n",
    "\n",
    "ds = Dataset.get_by_name(ws, name='heart-disease Dataset')\n",
    "df = ds.to_pandas_dataframe()\n",
    "df"
   ]
  },
  {
   "cell_type": "markdown",
   "metadata": {},
   "source": [
    "## AutoML Configuration\n",
    "\n",
    "TODO: Explain why you chose the automl settings and cofiguration you used below.\n",
    "\n",
    "\n",
    "Automated machine learning supports ensemble models. like **voting ensemble** and **stacking ensemble** methods for combining models.\n",
    "\n",
    "In this project, AutoML rapidly iterates over many combinations of algorithms and hyperparameters, and find out the best classification model based on a **Accuracy** success metric.\n"
   ]
  },
  {
   "cell_type": "code",
   "execution_count": 5,
   "metadata": {
    "gather": {
     "logged": 1598429217746
    },
    "jupyter": {
     "outputs_hidden": false,
     "source_hidden": false
    },
    "nteract": {
     "transient": {
      "deleting": false
     }
    }
   },
   "outputs": [],
   "source": [
    "automl_settings = {\n",
    "    \"experiment_timeout_minutes\": 30,\n",
    "    \"max_concurrent_iterations\": 5,\n",
    "    \"primary_metric\" : 'accuracy'\n",
    "}\n",
    "automl_config = AutoMLConfig(compute_target=compute_target,\n",
    "                             task = \"classification\",\n",
    "                             training_data=ds,\n",
    "                             label_column_name=\"DEATH_EVENT\",   \n",
    "                             enable_early_stopping= True,\n",
    "                             featurization= 'auto',\n",
    "                             n_cross_validations=3,\n",
    "                             debug_log = \"automl_errors.log\",\n",
    "                             **automl_settings\n",
    "                            )"
   ]
  },
  {
   "cell_type": "code",
   "execution_count": 6,
   "metadata": {
    "gather": {
     "logged": 1598431107951
    },
    "jupyter": {
     "outputs_hidden": false,
     "source_hidden": false
    },
    "nteract": {
     "transient": {
      "deleting": false
     }
    }
   },
   "outputs": [
    {
     "name": "stdout",
     "output_type": "stream",
     "text": [
      "Running on remote.\n"
     ]
    }
   ],
   "source": [
    "# TODO: Submit your experiment\n",
    "run = exp.submit(automl_config)"
   ]
  },
  {
   "cell_type": "markdown",
   "metadata": {},
   "source": [
    "## Run Details\n",
    "\n",
    "OPTIONAL: Write about the different models trained and their performance. Why do you think some models did better than others?\n",
    "\n",
    "TODO: In the cell below, use the `RunDetails` widget to show the different experiments."
   ]
  },
  {
   "cell_type": "code",
   "execution_count": 7,
   "metadata": {
    "gather": {
     "logged": 1598431121770
    },
    "jupyter": {
     "outputs_hidden": false,
     "source_hidden": false
    },
    "nteract": {
     "transient": {
      "deleting": false
     }
    }
   },
   "outputs": [
    {
     "data": {
      "application/vnd.jupyter.widget-view+json": {
       "model_id": "5231c7d614e841699a149762fe9333a6",
       "version_major": 2,
       "version_minor": 0
      },
      "text/plain": [
       "_AutoMLWidget(widget_settings={'childWidgetDisplay': 'popup', 'send_telemetry': False, 'log_level': 'INFO', 's…"
      ]
     },
     "metadata": {},
     "output_type": "display_data"
    },
    {
     "data": {
      "application/aml.mini.widget.v1": "{\"status\": \"Completed\", \"workbench_run_details_uri\": \"https://ml.azure.com/experiments/automl-udacity-capstone/runs/AutoML_90066085-ec01-4d85-a02e-d9b9050f081f?wsid=/subscriptions/3d1a56d2-7c81-4118-9790-f85d1acf0c77/resourcegroups/aml-quickstarts-134744/workspaces/quick-starts-ws-134744\", \"run_id\": \"AutoML_90066085-ec01-4d85-a02e-d9b9050f081f\", \"run_properties\": {\"run_id\": \"AutoML_90066085-ec01-4d85-a02e-d9b9050f081f\", \"created_utc\": \"2021-01-15T10:52:17.33544Z\", \"properties\": {\"num_iterations\": \"1000\", \"training_type\": \"TrainFull\", \"acquisition_function\": \"EI\", \"primary_metric\": \"accuracy\", \"train_split\": \"0\", \"acquisition_parameter\": \"0\", \"num_cross_validation\": \"3\", \"target\": \"automl-project\", \"AMLSettingsJsonString\": \"{\\\"path\\\":null,\\\"name\\\":\\\"automl-udacity-capstone\\\",\\\"subscription_id\\\":\\\"3d1a56d2-7c81-4118-9790-f85d1acf0c77\\\",\\\"resource_group\\\":\\\"aml-quickstarts-134744\\\",\\\"workspace_name\\\":\\\"quick-starts-ws-134744\\\",\\\"region\\\":\\\"southcentralus\\\",\\\"compute_target\\\":\\\"automl-project\\\",\\\"spark_service\\\":null,\\\"azure_service\\\":\\\"remote\\\",\\\"many_models\\\":false,\\\"pipeline_fetch_max_batch_size\\\":1,\\\"iterations\\\":1000,\\\"primary_metric\\\":\\\"accuracy\\\",\\\"task_type\\\":\\\"classification\\\",\\\"data_script\\\":null,\\\"validation_size\\\":0.0,\\\"n_cross_validations\\\":3,\\\"y_min\\\":null,\\\"y_max\\\":null,\\\"num_classes\\\":null,\\\"featurization\\\":\\\"auto\\\",\\\"_ignore_package_version_incompatibilities\\\":false,\\\"is_timeseries\\\":false,\\\"max_cores_per_iteration\\\":1,\\\"max_concurrent_iterations\\\":5,\\\"iteration_timeout_minutes\\\":null,\\\"mem_in_mb\\\":null,\\\"enforce_time_on_windows\\\":false,\\\"experiment_timeout_minutes\\\":30,\\\"experiment_exit_score\\\":null,\\\"whitelist_models\\\":null,\\\"blacklist_algos\\\":[\\\"TensorFlowLinearClassifier\\\",\\\"TensorFlowDNN\\\"],\\\"supported_models\\\":[\\\"SVM\\\",\\\"TensorFlowLinearClassifier\\\",\\\"SGD\\\",\\\"XGBoostClassifier\\\",\\\"LightGBM\\\",\\\"AveragedPerceptronClassifier\\\",\\\"TensorFlowDNN\\\",\\\"LinearSVM\\\",\\\"MultinomialNaiveBayes\\\",\\\"DecisionTree\\\",\\\"GradientBoosting\\\",\\\"LogisticRegression\\\",\\\"KNN\\\",\\\"BernoulliNaiveBayes\\\",\\\"RandomForest\\\",\\\"ExtremeRandomTrees\\\"],\\\"auto_blacklist\\\":true,\\\"blacklist_samples_reached\\\":false,\\\"exclude_nan_labels\\\":true,\\\"verbosity\\\":20,\\\"_debug_log\\\":\\\"azureml_automl.log\\\",\\\"show_warnings\\\":false,\\\"model_explainability\\\":true,\\\"service_url\\\":null,\\\"sdk_url\\\":null,\\\"sdk_packages\\\":null,\\\"enable_onnx_compatible_models\\\":false,\\\"enable_split_onnx_featurizer_estimator_models\\\":false,\\\"vm_type\\\":\\\"STANDARD_D2_V2\\\",\\\"telemetry_verbosity\\\":20,\\\"send_telemetry\\\":true,\\\"enable_dnn\\\":false,\\\"scenario\\\":\\\"SDK-1.13.0\\\",\\\"environment_label\\\":null,\\\"force_text_dnn\\\":false,\\\"enable_feature_sweeping\\\":true,\\\"enable_early_stopping\\\":true,\\\"early_stopping_n_iters\\\":10,\\\"metrics\\\":null,\\\"enable_ensembling\\\":true,\\\"enable_stack_ensembling\\\":true,\\\"ensemble_iterations\\\":15,\\\"enable_tf\\\":false,\\\"enable_subsampling\\\":null,\\\"subsample_seed\\\":null,\\\"enable_nimbusml\\\":false,\\\"enable_streaming\\\":false,\\\"force_streaming\\\":false,\\\"track_child_runs\\\":true,\\\"allowed_private_models\\\":[],\\\"label_column_name\\\":\\\"DEATH_EVENT\\\",\\\"weight_column_name\\\":null,\\\"cv_split_column_names\\\":null,\\\"enable_local_managed\\\":false,\\\"_local_managed_run_id\\\":null,\\\"cost_mode\\\":1,\\\"lag_length\\\":0,\\\"metric_operation\\\":\\\"maximize\\\",\\\"preprocess\\\":true}\", \"DataPrepJsonString\": \"{\\\\\\\"training_data\\\\\\\": \\\\\\\"{\\\\\\\\\\\\\\\"blocks\\\\\\\\\\\\\\\": [{\\\\\\\\\\\\\\\"id\\\\\\\\\\\\\\\": \\\\\\\\\\\\\\\"e4229f18-ccb9-4dac-bbda-f156f6c63053\\\\\\\\\\\\\\\", \\\\\\\\\\\\\\\"type\\\\\\\\\\\\\\\": \\\\\\\\\\\\\\\"Microsoft.DPrep.GetDatastoreFilesBlock\\\\\\\\\\\\\\\", \\\\\\\\\\\\\\\"arguments\\\\\\\\\\\\\\\": {\\\\\\\\\\\\\\\"datastores\\\\\\\\\\\\\\\": [{\\\\\\\\\\\\\\\"datastoreName\\\\\\\\\\\\\\\": \\\\\\\\\\\\\\\"workspaceblobstore\\\\\\\\\\\\\\\", \\\\\\\\\\\\\\\"path\\\\\\\\\\\\\\\": \\\\\\\\\\\\\\\"UI/01-15-2021_103919_UTC/heart_failure_clinical_records_dataset.csv\\\\\\\\\\\\\\\", \\\\\\\\\\\\\\\"resourceGroup\\\\\\\\\\\\\\\": \\\\\\\\\\\\\\\"aml-quickstarts-134744\\\\\\\\\\\\\\\", \\\\\\\\\\\\\\\"subscription\\\\\\\\\\\\\\\": \\\\\\\\\\\\\\\"3d1a56d2-7c81-4118-9790-f85d1acf0c77\\\\\\\\\\\\\\\", \\\\\\\\\\\\\\\"workspaceName\\\\\\\\\\\\\\\": \\\\\\\\\\\\\\\"quick-starts-ws-134744\\\\\\\\\\\\\\\"}]}, \\\\\\\\\\\\\\\"localData\\\\\\\\\\\\\\\": {}, \\\\\\\\\\\\\\\"isEnabled\\\\\\\\\\\\\\\": true, \\\\\\\\\\\\\\\"name\\\\\\\\\\\\\\\": null, \\\\\\\\\\\\\\\"annotation\\\\\\\\\\\\\\\": null}, {\\\\\\\\\\\\\\\"id\\\\\\\\\\\\\\\": \\\\\\\\\\\\\\\"70a73b29-76ac-4c37-a355-713f41e72587\\\\\\\\\\\\\\\", \\\\\\\\\\\\\\\"type\\\\\\\\\\\\\\\": \\\\\\\\\\\\\\\"Microsoft.DPrep.ParseDelimitedBlock\\\\\\\\\\\\\\\", \\\\\\\\\\\\\\\"arguments\\\\\\\\\\\\\\\": {\\\\\\\\\\\\\\\"columnHeadersMode\\\\\\\\\\\\\\\": 3, \\\\\\\\\\\\\\\"fileEncoding\\\\\\\\\\\\\\\": 0, \\\\\\\\\\\\\\\"handleQuotedLineBreaks\\\\\\\\\\\\\\\": false, \\\\\\\\\\\\\\\"preview\\\\\\\\\\\\\\\": false, \\\\\\\\\\\\\\\"separator\\\\\\\\\\\\\\\": \\\\\\\\\\\\\\\",\\\\\\\\\\\\\\\", \\\\\\\\\\\\\\\"skipRows\\\\\\\\\\\\\\\": 0, \\\\\\\\\\\\\\\"skipRowsMode\\\\\\\\\\\\\\\": 0}, \\\\\\\\\\\\\\\"localData\\\\\\\\\\\\\\\": {}, \\\\\\\\\\\\\\\"isEnabled\\\\\\\\\\\\\\\": true, \\\\\\\\\\\\\\\"name\\\\\\\\\\\\\\\": null, \\\\\\\\\\\\\\\"annotation\\\\\\\\\\\\\\\": null}, {\\\\\\\\\\\\\\\"id\\\\\\\\\\\\\\\": \\\\\\\\\\\\\\\"4a5815f6-1092-43f1-8e1b-5b98df04aece\\\\\\\\\\\\\\\", \\\\\\\\\\\\\\\"type\\\\\\\\\\\\\\\": \\\\\\\\\\\\\\\"Microsoft.DPrep.DropColumnsBlock\\\\\\\\\\\\\\\", \\\\\\\\\\\\\\\"arguments\\\\\\\\\\\\\\\": {\\\\\\\\\\\\\\\"columns\\\\\\\\\\\\\\\": {\\\\\\\\\\\\\\\"type\\\\\\\\\\\\\\\": 0, \\\\\\\\\\\\\\\"details\\\\\\\\\\\\\\\": {\\\\\\\\\\\\\\\"selectedColumns\\\\\\\\\\\\\\\": [\\\\\\\\\\\\\\\"Path\\\\\\\\\\\\\\\"]}}}, \\\\\\\\\\\\\\\"localData\\\\\\\\\\\\\\\": {}, \\\\\\\\\\\\\\\"isEnabled\\\\\\\\\\\\\\\": true, \\\\\\\\\\\\\\\"name\\\\\\\\\\\\\\\": null, \\\\\\\\\\\\\\\"annotation\\\\\\\\\\\\\\\": null}, {\\\\\\\\\\\\\\\"id\\\\\\\\\\\\\\\": \\\\\\\\\\\\\\\"915561c8-e29c-4952-89c8-669543d9e854\\\\\\\\\\\\\\\", \\\\\\\\\\\\\\\"type\\\\\\\\\\\\\\\": \\\\\\\\\\\\\\\"Microsoft.DPrep.SetColumnTypesBlock\\\\\\\\\\\\\\\", \\\\\\\\\\\\\\\"arguments\\\\\\\\\\\\\\\": {\\\\\\\\\\\\\\\"columnConversion\\\\\\\\\\\\\\\": [{\\\\\\\\\\\\\\\"column\\\\\\\\\\\\\\\": {\\\\\\\\\\\\\\\"type\\\\\\\\\\\\\\\": 2, \\\\\\\\\\\\\\\"details\\\\\\\\\\\\\\\": {\\\\\\\\\\\\\\\"selectedColumn\\\\\\\\\\\\\\\": \\\\\\\\\\\\\\\"Path\\\\\\\\\\\\\\\"}}, \\\\\\\\\\\\\\\"typeProperty\\\\\\\\\\\\\\\": 0}, {\\\\\\\\\\\\\\\"column\\\\\\\\\\\\\\\": {\\\\\\\\\\\\\\\"type\\\\\\\\\\\\\\\": 2, \\\\\\\\\\\\\\\"details\\\\\\\\\\\\\\\": {\\\\\\\\\\\\\\\"selectedColumn\\\\\\\\\\\\\\\": \\\\\\\\\\\\\\\"age\\\\\\\\\\\\\\\"}}, \\\\\\\\\\\\\\\"typeProperty\\\\\\\\\\\\\\\": 3}, {\\\\\\\\\\\\\\\"column\\\\\\\\\\\\\\\": {\\\\\\\\\\\\\\\"type\\\\\\\\\\\\\\\": 2, \\\\\\\\\\\\\\\"details\\\\\\\\\\\\\\\": {\\\\\\\\\\\\\\\"selectedColumn\\\\\\\\\\\\\\\": \\\\\\\\\\\\\\\"anaemia\\\\\\\\\\\\\\\"}}, \\\\\\\\\\\\\\\"typeProperty\\\\\\\\\\\\\\\": 2}, {\\\\\\\\\\\\\\\"column\\\\\\\\\\\\\\\": {\\\\\\\\\\\\\\\"type\\\\\\\\\\\\\\\": 2, \\\\\\\\\\\\\\\"details\\\\\\\\\\\\\\\": {\\\\\\\\\\\\\\\"selectedColumn\\\\\\\\\\\\\\\": \\\\\\\\\\\\\\\"creatinine_phosphokinase\\\\\\\\\\\\\\\"}}, \\\\\\\\\\\\\\\"typeProperty\\\\\\\\\\\\\\\": 2}, {\\\\\\\\\\\\\\\"column\\\\\\\\\\\\\\\": {\\\\\\\\\\\\\\\"type\\\\\\\\\\\\\\\": 2, \\\\\\\\\\\\\\\"details\\\\\\\\\\\\\\\": {\\\\\\\\\\\\\\\"selectedColumn\\\\\\\\\\\\\\\": \\\\\\\\\\\\\\\"diabetes\\\\\\\\\\\\\\\"}}, \\\\\\\\\\\\\\\"typeProperty\\\\\\\\\\\\\\\": 2}, {\\\\\\\\\\\\\\\"column\\\\\\\\\\\\\\\": {\\\\\\\\\\\\\\\"type\\\\\\\\\\\\\\\": 2, \\\\\\\\\\\\\\\"details\\\\\\\\\\\\\\\": {\\\\\\\\\\\\\\\"selectedColumn\\\\\\\\\\\\\\\": \\\\\\\\\\\\\\\"ejection_fraction\\\\\\\\\\\\\\\"}}, \\\\\\\\\\\\\\\"typeProperty\\\\\\\\\\\\\\\": 2}, {\\\\\\\\\\\\\\\"column\\\\\\\\\\\\\\\": {\\\\\\\\\\\\\\\"type\\\\\\\\\\\\\\\": 2, \\\\\\\\\\\\\\\"details\\\\\\\\\\\\\\\": {\\\\\\\\\\\\\\\"selectedColumn\\\\\\\\\\\\\\\": \\\\\\\\\\\\\\\"high_blood_pressure\\\\\\\\\\\\\\\"}}, \\\\\\\\\\\\\\\"typeProperty\\\\\\\\\\\\\\\": 2}, {\\\\\\\\\\\\\\\"column\\\\\\\\\\\\\\\": {\\\\\\\\\\\\\\\"type\\\\\\\\\\\\\\\": 2, \\\\\\\\\\\\\\\"details\\\\\\\\\\\\\\\": {\\\\\\\\\\\\\\\"selectedColumn\\\\\\\\\\\\\\\": \\\\\\\\\\\\\\\"platelets\\\\\\\\\\\\\\\"}}, \\\\\\\\\\\\\\\"typeProperty\\\\\\\\\\\\\\\": 3}, {\\\\\\\\\\\\\\\"column\\\\\\\\\\\\\\\": {\\\\\\\\\\\\\\\"type\\\\\\\\\\\\\\\": 2, \\\\\\\\\\\\\\\"details\\\\\\\\\\\\\\\": {\\\\\\\\\\\\\\\"selectedColumn\\\\\\\\\\\\\\\": \\\\\\\\\\\\\\\"serum_creatinine\\\\\\\\\\\\\\\"}}, \\\\\\\\\\\\\\\"typeProperty\\\\\\\\\\\\\\\": 3}, {\\\\\\\\\\\\\\\"column\\\\\\\\\\\\\\\": {\\\\\\\\\\\\\\\"type\\\\\\\\\\\\\\\": 2, \\\\\\\\\\\\\\\"details\\\\\\\\\\\\\\\": {\\\\\\\\\\\\\\\"selectedColumn\\\\\\\\\\\\\\\": \\\\\\\\\\\\\\\"serum_sodium\\\\\\\\\\\\\\\"}}, \\\\\\\\\\\\\\\"typeProperty\\\\\\\\\\\\\\\": 2}, {\\\\\\\\\\\\\\\"column\\\\\\\\\\\\\\\": {\\\\\\\\\\\\\\\"type\\\\\\\\\\\\\\\": 2, \\\\\\\\\\\\\\\"details\\\\\\\\\\\\\\\": {\\\\\\\\\\\\\\\"selectedColumn\\\\\\\\\\\\\\\": \\\\\\\\\\\\\\\"sex\\\\\\\\\\\\\\\"}}, \\\\\\\\\\\\\\\"typeProperty\\\\\\\\\\\\\\\": 2}, {\\\\\\\\\\\\\\\"column\\\\\\\\\\\\\\\": {\\\\\\\\\\\\\\\"type\\\\\\\\\\\\\\\": 2, \\\\\\\\\\\\\\\"details\\\\\\\\\\\\\\\": {\\\\\\\\\\\\\\\"selectedColumn\\\\\\\\\\\\\\\": \\\\\\\\\\\\\\\"smoking\\\\\\\\\\\\\\\"}}, \\\\\\\\\\\\\\\"typeProperty\\\\\\\\\\\\\\\": 2}, {\\\\\\\\\\\\\\\"column\\\\\\\\\\\\\\\": {\\\\\\\\\\\\\\\"type\\\\\\\\\\\\\\\": 2, \\\\\\\\\\\\\\\"details\\\\\\\\\\\\\\\": {\\\\\\\\\\\\\\\"selectedColumn\\\\\\\\\\\\\\\": \\\\\\\\\\\\\\\"time\\\\\\\\\\\\\\\"}}, \\\\\\\\\\\\\\\"typeProperty\\\\\\\\\\\\\\\": 2}, {\\\\\\\\\\\\\\\"column\\\\\\\\\\\\\\\": {\\\\\\\\\\\\\\\"type\\\\\\\\\\\\\\\": 2, \\\\\\\\\\\\\\\"details\\\\\\\\\\\\\\\": {\\\\\\\\\\\\\\\"selectedColumn\\\\\\\\\\\\\\\": \\\\\\\\\\\\\\\"DEATH_EVENT\\\\\\\\\\\\\\\"}}, \\\\\\\\\\\\\\\"typeProperty\\\\\\\\\\\\\\\": 2}]}, \\\\\\\\\\\\\\\"localData\\\\\\\\\\\\\\\": {}, \\\\\\\\\\\\\\\"isEnabled\\\\\\\\\\\\\\\": true, \\\\\\\\\\\\\\\"name\\\\\\\\\\\\\\\": null, \\\\\\\\\\\\\\\"annotation\\\\\\\\\\\\\\\": null}], \\\\\\\\\\\\\\\"inspectors\\\\\\\\\\\\\\\": [], \\\\\\\\\\\\\\\"meta\\\\\\\\\\\\\\\": {\\\\\\\\\\\\\\\"savedDatasetId\\\\\\\\\\\\\\\": \\\\\\\\\\\\\\\"d8b6219f-9b4e-4b49-8fd2-6ab512db20b5\\\\\\\\\\\\\\\", \\\\\\\\\\\\\\\"datasetType\\\\\\\\\\\\\\\": \\\\\\\\\\\\\\\"tabular\\\\\\\\\\\\\\\", \\\\\\\\\\\\\\\"subscriptionId\\\\\\\\\\\\\\\": \\\\\\\\\\\\\\\"3d1a56d2-7c81-4118-9790-f85d1acf0c77\\\\\\\\\\\\\\\", \\\\\\\\\\\\\\\"workspaceId\\\\\\\\\\\\\\\": \\\\\\\\\\\\\\\"1ea6c405-7f1a-4a55-b2ce-464507e56162\\\\\\\\\\\\\\\", \\\\\\\\\\\\\\\"workspaceLocation\\\\\\\\\\\\\\\": \\\\\\\\\\\\\\\"southcentralus\\\\\\\\\\\\\\\"}}\\\\\\\", \\\\\\\"activities\\\\\\\": 0}\", \"EnableSubsampling\": null, \"runTemplate\": \"AutoML\", \"azureml.runsource\": \"automl\", \"display_task_type\": \"classification\", \"dependencies_versions\": \"{\\\"azureml-widgets\\\": \\\"1.19.0\\\", \\\"azureml-train\\\": \\\"1.19.0\\\", \\\"azureml-train-restclients-hyperdrive\\\": \\\"1.19.0\\\", \\\"azureml-train-core\\\": \\\"1.19.0\\\", \\\"azureml-train-automl\\\": \\\"1.19.0\\\", \\\"azureml-train-automl-runtime\\\": \\\"1.19.0\\\", \\\"azureml-train-automl-client\\\": \\\"1.19.0\\\", \\\"azureml-tensorboard\\\": \\\"1.19.0\\\", \\\"azureml-telemetry\\\": \\\"1.19.0\\\", \\\"azureml-sdk\\\": \\\"1.19.0\\\", \\\"azureml-samples\\\": \\\"0+unknown\\\", \\\"azureml-pipeline\\\": \\\"1.19.0\\\", \\\"azureml-pipeline-steps\\\": \\\"1.19.0\\\", \\\"azureml-pipeline-core\\\": \\\"1.19.0\\\", \\\"azureml-opendatasets\\\": \\\"1.19.0\\\", \\\"azureml-model-management-sdk\\\": \\\"1.0.1b6.post1\\\", \\\"azureml-mlflow\\\": \\\"1.19.0\\\", \\\"azureml-interpret\\\": \\\"1.19.0\\\", \\\"azureml-explain-model\\\": \\\"1.19.0\\\", \\\"azureml-defaults\\\": \\\"1.19.0\\\", \\\"azureml-dataset-runtime\\\": \\\"1.19.0.post1\\\", \\\"azureml-dataprep\\\": \\\"2.6.1\\\", \\\"azureml-dataprep-rslex\\\": \\\"1.4.0\\\", \\\"azureml-dataprep-native\\\": \\\"26.0.0\\\", \\\"azureml-datadrift\\\": \\\"1.19.0\\\", \\\"azureml-core\\\": \\\"1.19.0\\\", \\\"azureml-contrib-services\\\": \\\"1.19.0\\\", \\\"azureml-contrib-server\\\": \\\"1.19.0\\\", \\\"azureml-contrib-reinforcementlearning\\\": \\\"1.19.0\\\", \\\"azureml-contrib-pipeline-steps\\\": \\\"1.19.0\\\", \\\"azureml-contrib-notebook\\\": \\\"1.19.0\\\", \\\"azureml-contrib-interpret\\\": \\\"1.19.0\\\", \\\"azureml-contrib-gbdt\\\": \\\"1.19.0\\\", \\\"azureml-contrib-fairness\\\": \\\"1.19.0\\\", \\\"azureml-contrib-dataset\\\": \\\"1.19.0\\\", \\\"azureml-cli-common\\\": \\\"1.19.0\\\", \\\"azureml-automl-runtime\\\": \\\"1.19.0\\\", \\\"azureml-automl-core\\\": \\\"1.19.0\\\", \\\"azureml-accel-models\\\": \\\"1.19.0\\\"}\", \"_aml_system_scenario_identification\": \"Remote.Parent\", \"ClientType\": \"SDK\", \"environment_cpu_name\": \"AzureML-AutoML\", \"environment_cpu_label\": \"prod\", \"environment_gpu_name\": \"AzureML-AutoML-GPU\", \"environment_gpu_label\": \"prod\", \"root_attribution\": \"automl\", \"attribution\": \"AutoML\", \"Orchestrator\": \"AutoML\", \"CancelUri\": \"https://southcentralus.experiments.azureml.net/jasmine/v1.0/subscriptions/3d1a56d2-7c81-4118-9790-f85d1acf0c77/resourceGroups/aml-quickstarts-134744/providers/Microsoft.MachineLearningServices/workspaces/quick-starts-ws-134744/experimentids/dde168bd-e2ff-4b44-8d79-61e91bfedfce/cancel/AutoML_90066085-ec01-4d85-a02e-d9b9050f081f\", \"ClientSdkVersion\": \"1.19.0\", \"snapshotId\": \"00000000-0000-0000-0000-000000000000\", \"SetupRunId\": \"AutoML_90066085-ec01-4d85-a02e-d9b9050f081f_setup\", \"SetupRunContainerId\": \"dcid.AutoML_90066085-ec01-4d85-a02e-d9b9050f081f_setup\", \"FeaturizationRunJsonPath\": \"featurizer_container.json\", \"FeaturizationRunId\": \"AutoML_90066085-ec01-4d85-a02e-d9b9050f081f_featurize\", \"ProblemInfoJsonString\": \"{\\\"dataset_num_categorical\\\": 0, \\\"is_sparse\\\": false, \\\"subsampling\\\": false, \\\"dataset_classes\\\": 2, \\\"dataset_features\\\": 12, \\\"dataset_samples\\\": 299, \\\"single_frequency_class_detected\\\": false}\", \"ModelExplainRunId\": \"AutoML_90066085-ec01-4d85-a02e-d9b9050f081f_ModelExplain\"}, \"tags\": {\"model_explain_run\": \"best_run\", \"_aml_system_azureml.automlComponent\": \"AutoML\", \"pipeline_id\": \"\", \"score\": \"\", \"predicted_cost\": \"\", \"fit_time\": \"\", \"training_percent\": \"\", \"iteration\": \"\", \"run_preprocessor\": \"\", \"run_algorithm\": \"\", \"dynamic_whitelisting_iterations\": \"<25>;<30>;<35>;\", \"automl_best_child_run_id\": \"AutoML_90066085-ec01-4d85-a02e-d9b9050f081f_38\", \"model_explain_best_run_child_id\": \"AutoML_90066085-ec01-4d85-a02e-d9b9050f081f_38\"}, \"end_time_utc\": \"2021-01-15T11:15:28.399693Z\", \"status\": \"Completed\", \"log_files\": {}, \"log_groups\": [], \"run_duration\": \"0:23:11\"}, \"child_runs\": [{\"run_id\": \"AutoML_90066085-ec01-4d85-a02e-d9b9050f081f_0\", \"run_number\": 6, \"metric\": null, \"status\": \"Completed\", \"run_type\": \"azureml.scriptrun\", \"training_percent\": \"100\", \"start_time\": \"2021-01-15T11:01:58.198581Z\", \"end_time\": \"2021-01-15T11:02:41.70182Z\", \"created_time\": \"2021-01-15T11:01:45.354081Z\", \"created_time_dt\": \"2021-01-15T11:01:45.354081Z\", \"duration\": \"0:00:56\", \"iteration\": \"0\", \"goal\": \"accuracy_max\", \"run_name\": \"MaxAbsScaler, LightGBM\", \"run_properties\": \"copy=True\", \"primary_metric\": 0.80252525, \"best_metric\": 0.80252525}, {\"run_id\": \"AutoML_90066085-ec01-4d85-a02e-d9b9050f081f_1\", \"run_number\": 7, \"metric\": null, \"status\": \"Completed\", \"run_type\": \"azureml.scriptrun\", \"training_percent\": \"100\", \"start_time\": \"2021-01-15T11:03:46.426382Z\", \"end_time\": \"2021-01-15T11:07:14.065733Z\", \"created_time\": \"2021-01-15T11:01:45.37022Z\", \"created_time_dt\": \"2021-01-15T11:01:45.37022Z\", \"duration\": \"0:05:28\", \"iteration\": \"1\", \"goal\": \"accuracy_max\", \"run_name\": \"MaxAbsScaler, XGBoostClassifier\", \"run_properties\": \"copy=True\", \"primary_metric\": 0.81929293, \"best_metric\": 0.81929293}, {\"run_id\": \"AutoML_90066085-ec01-4d85-a02e-d9b9050f081f_3\", \"run_number\": 8, \"metric\": null, \"status\": \"Completed\", \"run_type\": \"azureml.scriptrun\", \"training_percent\": \"100\", \"start_time\": \"2021-01-15T11:03:45.461671Z\", \"end_time\": \"2021-01-15T11:04:31.706124Z\", \"created_time\": \"2021-01-15T11:01:45.475797Z\", \"created_time_dt\": \"2021-01-15T11:01:45.475797Z\", \"duration\": \"0:02:46\", \"iteration\": \"3\", \"goal\": \"accuracy_max\", \"run_name\": \"MinMaxScaler, RandomForest\", \"run_properties\": \"copy=True, feature_range=(0, 1\", \"primary_metric\": 0.80912458, \"best_metric\": 0.84276094}, {\"run_id\": \"AutoML_90066085-ec01-4d85-a02e-d9b9050f081f_2\", \"run_number\": 9, \"metric\": null, \"status\": \"Completed\", \"run_type\": \"azureml.scriptrun\", \"training_percent\": \"100\", \"start_time\": \"2021-01-15T11:02:45.983685Z\", \"end_time\": \"2021-01-15T11:03:43.521611Z\", \"created_time\": \"2021-01-15T11:01:45.557012Z\", \"created_time_dt\": \"2021-01-15T11:01:45.557012Z\", \"duration\": \"0:01:57\", \"iteration\": \"2\", \"goal\": \"accuracy_max\", \"run_name\": \"MinMaxScaler, RandomForest\", \"run_properties\": \"copy=True, feature_range=(0, 1\", \"primary_metric\": 0.84276094, \"best_metric\": 0.84276094}, {\"run_id\": \"AutoML_90066085-ec01-4d85-a02e-d9b9050f081f_4\", \"run_number\": 10, \"metric\": null, \"status\": \"Completed\", \"run_type\": \"azureml.scriptrun\", \"training_percent\": \"100\", \"start_time\": \"2021-01-15T11:03:46.883771Z\", \"end_time\": \"2021-01-15T11:07:00.829565Z\", \"created_time\": \"2021-01-15T11:01:45.70411Z\", \"created_time_dt\": \"2021-01-15T11:01:45.70411Z\", \"duration\": \"0:05:15\", \"iteration\": \"4\", \"goal\": \"accuracy_max\", \"run_name\": \"MinMaxScaler, RandomForest\", \"run_properties\": \"copy=True, feature_range=(0, 1\", \"primary_metric\": 0.8426936, \"best_metric\": 0.84276094}, {\"run_id\": \"AutoML_90066085-ec01-4d85-a02e-d9b9050f081f_5\", \"run_number\": 11, \"metric\": null, \"status\": \"Completed\", \"run_type\": \"azureml.scriptrun\", \"training_percent\": \"100\", \"start_time\": \"2021-01-15T11:03:48.181172Z\", \"end_time\": \"2021-01-15T11:07:01.767548Z\", \"created_time\": \"2021-01-15T11:02:45.55054Z\", \"created_time_dt\": \"2021-01-15T11:02:45.55054Z\", \"duration\": \"0:04:16\", \"iteration\": \"5\", \"goal\": \"accuracy_max\", \"run_name\": \"RobustScaler, KNN\", \"run_properties\": \"copy=True, quantile_range=[25, 75], with_centering=False,\\n             with_scaling=True\", \"primary_metric\": 0.7356229, \"best_metric\": 0.84276094}, {\"run_id\": \"AutoML_90066085-ec01-4d85-a02e-d9b9050f081f_6\", \"run_number\": 12, \"metric\": null, \"status\": \"Completed\", \"run_type\": \"azureml.scriptrun\", \"training_percent\": \"100\", \"start_time\": \"2021-01-15T11:04:37.002568Z\", \"end_time\": \"2021-01-15T11:05:20.102505Z\", \"created_time\": \"2021-01-15T11:03:48.649918Z\", \"created_time_dt\": \"2021-01-15T11:03:48.649918Z\", \"duration\": \"0:01:31\", \"iteration\": \"6\", \"goal\": \"accuracy_max\", \"run_name\": \"MinMaxScaler, LightGBM\", \"run_properties\": \"copy=True, feature_range=(0, 1\", \"primary_metric\": 0.80249158, \"best_metric\": 0.84276094}, {\"run_id\": \"AutoML_90066085-ec01-4d85-a02e-d9b9050f081f_7\", \"run_number\": 13, \"metric\": null, \"status\": \"Completed\", \"run_type\": \"azureml.scriptrun\", \"training_percent\": \"100\", \"start_time\": \"2021-01-15T11:05:20.378399Z\", \"end_time\": \"2021-01-15T11:06:02.740947Z\", \"created_time\": \"2021-01-15T11:04:35.661579Z\", \"created_time_dt\": \"2021-01-15T11:04:35.661579Z\", \"duration\": \"0:01:27\", \"iteration\": \"7\", \"goal\": \"accuracy_max\", \"run_name\": \"MinMaxScaler, SVM\", \"run_properties\": \"copy=True, feature_range=(0, 1\", \"primary_metric\": 0.72902357, \"best_metric\": 0.84276094}, {\"run_id\": \"AutoML_90066085-ec01-4d85-a02e-d9b9050f081f_8\", \"run_number\": 14, \"metric\": null, \"status\": \"Completed\", \"run_type\": \"azureml.scriptrun\", \"training_percent\": \"100\", \"start_time\": \"2021-01-15T11:06:05.298858Z\", \"end_time\": \"2021-01-15T11:06:49.710439Z\", \"created_time\": \"2021-01-15T11:05:24.318372Z\", \"created_time_dt\": \"2021-01-15T11:05:24.318372Z\", \"duration\": \"0:01:25\", \"iteration\": \"8\", \"goal\": \"accuracy_max\", \"run_name\": \"MinMaxScaler, SVM\", \"run_properties\": \"copy=True, feature_range=(0, 1\", \"primary_metric\": 0.70572391, \"best_metric\": 0.84276094}, {\"run_id\": \"AutoML_90066085-ec01-4d85-a02e-d9b9050f081f_9\", \"run_number\": 15, \"metric\": null, \"status\": \"Completed\", \"run_type\": \"azureml.scriptrun\", \"training_percent\": \"100\", \"start_time\": \"2021-01-15T11:06:55.377349Z\", \"end_time\": \"2021-01-15T11:07:38.009098Z\", \"created_time\": \"2021-01-15T11:06:06.537795Z\", \"created_time_dt\": \"2021-01-15T11:06:06.537795Z\", \"duration\": \"0:01:31\", \"iteration\": \"9\", \"goal\": \"accuracy_max\", \"run_name\": \"MaxAbsScaler, GradientBoosting\", \"run_properties\": \"copy=True\", \"primary_metric\": 0.82265993, \"best_metric\": 0.84276094}, {\"run_id\": \"AutoML_90066085-ec01-4d85-a02e-d9b9050f081f_10\", \"run_number\": 16, \"metric\": null, \"status\": \"Completed\", \"run_type\": \"azureml.scriptrun\", \"training_percent\": \"100\", \"start_time\": \"2021-01-15T11:07:04.423738Z\", \"end_time\": \"2021-01-15T11:07:57.725424Z\", \"created_time\": \"2021-01-15T11:06:53.45875Z\", \"created_time_dt\": \"2021-01-15T11:06:53.45875Z\", \"duration\": \"0:01:04\", \"iteration\": \"10\", \"goal\": \"accuracy_max\", \"run_name\": \"SparseNormalizer, XGBoostClassifier\", \"run_properties\": \"<azureml.automl.runtime.shared.model_wrappers.SparseNormalizer object at 0x7f41000827f0\", \"primary_metric\": 0.81606061, \"best_metric\": 0.84276094}, {\"run_id\": \"AutoML_90066085-ec01-4d85-a02e-d9b9050f081f_11\", \"run_number\": 17, \"metric\": null, \"status\": \"Completed\", \"run_type\": \"azureml.scriptrun\", \"training_percent\": \"100\", \"start_time\": \"2021-01-15T11:07:18.343748Z\", \"end_time\": \"2021-01-15T11:09:07.9898Z\", \"created_time\": \"2021-01-15T11:07:04.038067Z\", \"created_time_dt\": \"2021-01-15T11:07:04.038067Z\", \"duration\": \"0:02:03\", \"iteration\": \"11\", \"goal\": \"accuracy_max\", \"run_name\": \"SparseNormalizer, XGBoostClassifier\", \"run_properties\": \"<azureml.automl.runtime.shared.model_wrappers.SparseNormalizer object at 0x7f5b0c0a8c50\", \"primary_metric\": 0.80939394, \"best_metric\": 0.84276094}, {\"run_id\": \"AutoML_90066085-ec01-4d85-a02e-d9b9050f081f_12\", \"run_number\": 18, \"metric\": null, \"status\": \"Completed\", \"run_type\": \"azureml.scriptrun\", \"training_percent\": \"100\", \"start_time\": \"2021-01-15T11:07:23.500379Z\", \"end_time\": \"2021-01-15T11:08:59.154631Z\", \"created_time\": \"2021-01-15T11:07:10.943825Z\", \"created_time_dt\": \"2021-01-15T11:07:10.943825Z\", \"duration\": \"0:01:48\", \"iteration\": \"12\", \"goal\": \"accuracy_max\", \"run_name\": \"StandardScalerWrapper, LightGBM\", \"run_properties\": \"<azureml.automl.runtime.shared.model_wrappers.StandardScalerWrapper object at 0x7f2350c64c50\", \"primary_metric\": 0.78922559, \"best_metric\": 0.84276094}, {\"run_id\": \"AutoML_90066085-ec01-4d85-a02e-d9b9050f081f_13\", \"run_number\": 19, \"metric\": null, \"status\": \"Completed\", \"run_type\": \"azureml.scriptrun\", \"training_percent\": \"100\", \"start_time\": \"2021-01-15T11:07:41.778783Z\", \"end_time\": \"2021-01-15T11:09:14.494833Z\", \"created_time\": \"2021-01-15T11:07:19.338368Z\", \"created_time_dt\": \"2021-01-15T11:07:19.338368Z\", \"duration\": \"0:01:55\", \"iteration\": \"13\", \"goal\": \"accuracy_max\", \"run_name\": \"RobustScaler, RandomForest\", \"run_properties\": \"copy=True, quantile_range=[25, 75], with_centering=False,\\n             with_scaling=True\", \"primary_metric\": 0.82589226, \"best_metric\": 0.84276094}, {\"run_id\": \"AutoML_90066085-ec01-4d85-a02e-d9b9050f081f_14\", \"run_number\": 20, \"metric\": null, \"status\": \"Completed\", \"run_type\": \"azureml.scriptrun\", \"training_percent\": \"100\", \"start_time\": \"2021-01-15T11:08:00.215464Z\", \"end_time\": \"2021-01-15T11:08:45.822795Z\", \"created_time\": \"2021-01-15T11:07:41.323388Z\", \"created_time_dt\": \"2021-01-15T11:07:41.323388Z\", \"duration\": \"0:01:04\", \"iteration\": \"14\", \"goal\": \"accuracy_max\", \"run_name\": \"RobustScaler, ExtremeRandomTrees\", \"run_properties\": \"copy=True, quantile_range=[25, 75], with_centering=True,\\n             with_scaling=False\", \"primary_metric\": 0.84609428, \"best_metric\": 0.84609428}, {\"run_id\": \"AutoML_90066085-ec01-4d85-a02e-d9b9050f081f_15\", \"run_number\": 21, \"metric\": null, \"status\": \"Completed\", \"run_type\": \"azureml.scriptrun\", \"training_percent\": \"100\", \"start_time\": \"2021-01-15T11:08:49.258798Z\", \"end_time\": \"2021-01-15T11:09:32.671686Z\", \"created_time\": \"2021-01-15T11:08:00.070503Z\", \"created_time_dt\": \"2021-01-15T11:08:00.070503Z\", \"duration\": \"0:01:32\", \"iteration\": \"15\", \"goal\": \"accuracy_max\", \"run_name\": \"MaxAbsScaler, LightGBM\", \"run_properties\": \"copy=True\", \"primary_metric\": 0.79925926, \"best_metric\": 0.84609428}, {\"run_id\": \"AutoML_90066085-ec01-4d85-a02e-d9b9050f081f_16\", \"run_number\": 22, \"metric\": null, \"status\": \"Completed\", \"run_type\": \"azureml.scriptrun\", \"training_percent\": \"100\", \"start_time\": \"2021-01-15T11:09:05.864137Z\", \"end_time\": \"2021-01-15T11:09:52.962238Z\", \"created_time\": \"2021-01-15T11:08:49.077816Z\", \"created_time_dt\": \"2021-01-15T11:08:49.077816Z\", \"duration\": \"0:01:03\", \"iteration\": \"16\", \"goal\": \"accuracy_max\", \"run_name\": \"RobustScaler, LightGBM\", \"run_properties\": \"copy=True, quantile_range=[10, 90], with_centering=True,\\n             with_scaling=False\", \"primary_metric\": 0.76252525, \"best_metric\": 0.84609428}, {\"run_id\": \"AutoML_90066085-ec01-4d85-a02e-d9b9050f081f_17\", \"run_number\": 23, \"metric\": null, \"status\": \"Completed\", \"run_type\": \"azureml.scriptrun\", \"training_percent\": \"100\", \"start_time\": \"2021-01-15T11:09:13.002822Z\", \"end_time\": \"2021-01-15T11:09:57.629591Z\", \"created_time\": \"2021-01-15T11:09:01.775752Z\", \"created_time_dt\": \"2021-01-15T11:09:01.775752Z\", \"duration\": \"0:00:55\", \"iteration\": \"17\", \"goal\": \"accuracy_max\", \"run_name\": \"MinMaxScaler, LightGBM\", \"run_properties\": \"copy=True, feature_range=(0, 1\", \"primary_metric\": 0.79929293, \"best_metric\": 0.84609428}, {\"run_id\": \"AutoML_90066085-ec01-4d85-a02e-d9b9050f081f_18\", \"run_number\": 24, \"metric\": null, \"status\": \"Completed\", \"run_type\": \"azureml.scriptrun\", \"training_percent\": \"100\", \"start_time\": \"2021-01-15T11:09:21.546305Z\", \"end_time\": \"2021-01-15T11:10:20.903517Z\", \"created_time\": \"2021-01-15T11:09:10.952191Z\", \"created_time_dt\": \"2021-01-15T11:09:10.952191Z\", \"duration\": \"0:01:09\", \"iteration\": \"18\", \"goal\": \"accuracy_max\", \"run_name\": \"MaxAbsScaler, LightGBM\", \"run_properties\": \"copy=True\", \"primary_metric\": 0.82602694, \"best_metric\": 0.84609428}, {\"run_id\": \"AutoML_90066085-ec01-4d85-a02e-d9b9050f081f_19\", \"run_number\": 25, \"metric\": null, \"status\": \"Completed\", \"run_type\": \"azureml.scriptrun\", \"training_percent\": \"100\", \"start_time\": \"2021-01-15T11:09:33.167913Z\", \"end_time\": \"2021-01-15T11:10:17.295893Z\", \"created_time\": \"2021-01-15T11:09:16.888728Z\", \"created_time_dt\": \"2021-01-15T11:09:16.888728Z\", \"duration\": \"0:01:00\", \"iteration\": \"19\", \"goal\": \"accuracy_max\", \"run_name\": \"StandardScalerWrapper, XGBoostClassifier\", \"run_properties\": \"<azureml.automl.runtime.shared.model_wrappers.StandardScalerWrapper object at 0x7f63080501d0\", \"primary_metric\": 0.83606061, \"best_metric\": 0.84609428}, {\"run_id\": \"AutoML_90066085-ec01-4d85-a02e-d9b9050f081f_20\", \"run_number\": 26, \"metric\": null, \"status\": \"Completed\", \"run_type\": \"azureml.scriptrun\", \"training_percent\": \"100\", \"start_time\": \"2021-01-15T11:09:56.106965Z\", \"end_time\": \"2021-01-15T11:10:35.263044Z\", \"created_time\": \"2021-01-15T11:09:35.550306Z\", \"created_time_dt\": \"2021-01-15T11:09:35.550306Z\", \"duration\": \"0:00:59\", \"iteration\": \"20\", \"goal\": \"accuracy_max\", \"run_name\": \"SparseNormalizer, XGBoostClassifier\", \"run_properties\": \"<azureml.automl.runtime.shared.model_wrappers.SparseNormalizer object at 0x7f95526d5668\", \"primary_metric\": 0.8193266, \"best_metric\": 0.84609428}, {\"run_id\": \"AutoML_90066085-ec01-4d85-a02e-d9b9050f081f_21\", \"run_number\": 27, \"metric\": null, \"status\": \"Completed\", \"run_type\": \"azureml.scriptrun\", \"training_percent\": \"100\", \"start_time\": \"2021-01-15T11:10:09.616839Z\", \"end_time\": \"2021-01-15T11:11:13.06545Z\", \"created_time\": \"2021-01-15T11:09:55.555923Z\", \"created_time_dt\": \"2021-01-15T11:09:55.555923Z\", \"duration\": \"0:01:17\", \"iteration\": \"21\", \"goal\": \"accuracy_max\", \"run_name\": \"StandardScalerWrapper, LightGBM\", \"run_properties\": \"<azureml.automl.runtime.shared.model_wrappers.StandardScalerWrapper object at 0x7fd3b4be3a20\", \"primary_metric\": 0.76259259, \"best_metric\": 0.84609428}, {\"run_id\": \"AutoML_90066085-ec01-4d85-a02e-d9b9050f081f_22\", \"run_number\": 28, \"metric\": null, \"status\": \"Completed\", \"run_type\": \"azureml.scriptrun\", \"training_percent\": \"100\", \"start_time\": \"2021-01-15T11:10:24.691571Z\", \"end_time\": \"2021-01-15T11:11:14.114486Z\", \"created_time\": \"2021-01-15T11:10:01.218871Z\", \"created_time_dt\": \"2021-01-15T11:10:01.218871Z\", \"duration\": \"0:01:12\", \"iteration\": \"22\", \"goal\": \"accuracy_max\", \"run_name\": \"SparseNormalizer, XGBoostClassifier\", \"run_properties\": \"<azureml.automl.runtime.shared.model_wrappers.SparseNormalizer object at 0x7f40be495d68\", \"primary_metric\": 0.80925926, \"best_metric\": 0.84609428}, {\"run_id\": \"AutoML_90066085-ec01-4d85-a02e-d9b9050f081f_23\", \"run_number\": 29, \"metric\": null, \"status\": \"Completed\", \"run_type\": \"azureml.scriptrun\", \"training_percent\": \"100\", \"start_time\": \"2021-01-15T11:10:30.279947Z\", \"end_time\": \"2021-01-15T11:11:12.18434Z\", \"created_time\": \"2021-01-15T11:10:19.392621Z\", \"created_time_dt\": \"2021-01-15T11:10:19.392621Z\", \"duration\": \"0:00:52\", \"iteration\": \"23\", \"goal\": \"accuracy_max\", \"run_name\": \"RobustScaler, RandomForest\", \"run_properties\": \"copy=True, quantile_range=[25, 75], with_centering=True,\\n             with_scaling=False\", \"primary_metric\": 0.8193266, \"best_metric\": 0.84609428}, {\"run_id\": \"AutoML_90066085-ec01-4d85-a02e-d9b9050f081f_24\", \"run_number\": 30, \"metric\": null, \"status\": \"Completed\", \"run_type\": \"azureml.scriptrun\", \"training_percent\": \"100\", \"start_time\": \"2021-01-15T11:10:39.493579Z\", \"end_time\": \"2021-01-15T11:11:32.419761Z\", \"created_time\": \"2021-01-15T11:10:23.204011Z\", \"created_time_dt\": \"2021-01-15T11:10:23.204011Z\", \"duration\": \"0:01:09\", \"iteration\": \"24\", \"goal\": \"accuracy_max\", \"run_name\": \"TruncatedSVDWrapper, RandomForest\", \"run_properties\": \"n_components=0.9005263157894737, random_state=None\", \"primary_metric\": 0.76582492, \"best_metric\": 0.84609428}, {\"run_id\": \"AutoML_90066085-ec01-4d85-a02e-d9b9050f081f_25\", \"run_number\": 31, \"metric\": null, \"status\": \"Completed\", \"run_type\": \"azureml.scriptrun\", \"training_percent\": \"100\", \"start_time\": \"2021-01-15T11:11:16.086315Z\", \"end_time\": \"2021-01-15T11:12:24.047633Z\", \"created_time\": \"2021-01-15T11:10:39.481533Z\", \"created_time_dt\": \"2021-01-15T11:10:39.481533Z\", \"duration\": \"0:01:44\", \"iteration\": \"25\", \"goal\": \"accuracy_max\", \"run_name\": \"PCA, ExtremeRandomTrees\", \"run_properties\": \"copy=True, iterated_power='auto', n_components=0.01, random_state=None,\\n    svd_solver='auto', tol=0.0, whiten=False\", \"primary_metric\": 0.67902357, \"best_metric\": 0.84609428}, {\"run_id\": \"AutoML_90066085-ec01-4d85-a02e-d9b9050f081f_26\", \"run_number\": 32, \"metric\": null, \"status\": \"Completed\", \"run_type\": \"azureml.scriptrun\", \"training_percent\": \"100\", \"start_time\": \"2021-01-15T11:11:26.158887Z\", \"end_time\": \"2021-01-15T11:12:11.996437Z\", \"created_time\": \"2021-01-15T11:11:14.427654Z\", \"created_time_dt\": \"2021-01-15T11:11:14.427654Z\", \"duration\": \"0:00:57\", \"iteration\": \"26\", \"goal\": \"accuracy_max\", \"run_name\": \"MaxAbsScaler, LightGBM\", \"run_properties\": \"copy=True\", \"primary_metric\": 0.71242424, \"best_metric\": 0.84609428}, {\"run_id\": \"AutoML_90066085-ec01-4d85-a02e-d9b9050f081f_27\", \"run_number\": 33, \"metric\": null, \"status\": \"Completed\", \"run_type\": \"azureml.scriptrun\", \"training_percent\": \"100\", \"start_time\": \"2021-01-15T11:11:35.664017Z\", \"end_time\": \"2021-01-15T11:12:22.859841Z\", \"created_time\": \"2021-01-15T11:11:18.88598Z\", \"created_time_dt\": \"2021-01-15T11:11:18.88598Z\", \"duration\": \"0:01:03\", \"iteration\": \"27\", \"goal\": \"accuracy_max\", \"run_name\": \"SparseNormalizer, XGBoostClassifier\", \"run_properties\": \"<azureml.automl.runtime.shared.model_wrappers.SparseNormalizer object at 0x7f10fb26c588\", \"primary_metric\": 0.81939394, \"best_metric\": 0.84609428}, {\"run_id\": \"AutoML_90066085-ec01-4d85-a02e-d9b9050f081f_28\", \"run_number\": 34, \"metric\": null, \"status\": \"Completed\", \"run_type\": \"azureml.scriptrun\", \"training_percent\": \"100\", \"start_time\": \"2021-01-15T11:11:30.283196Z\", \"end_time\": \"2021-01-15T11:12:07.211511Z\", \"created_time\": \"2021-01-15T11:11:18.924228Z\", \"created_time_dt\": \"2021-01-15T11:11:18.924228Z\", \"duration\": \"0:00:48\", \"iteration\": \"28\", \"goal\": \"accuracy_max\", \"run_name\": \"RobustScaler, LightGBM\", \"run_properties\": \"copy=True, quantile_range=[25, 75], with_centering=True,\\n             with_scaling=False\", \"primary_metric\": 0.80929293, \"best_metric\": 0.84609428}, {\"run_id\": \"AutoML_90066085-ec01-4d85-a02e-d9b9050f081f_29\", \"run_number\": 35, \"metric\": null, \"status\": \"Completed\", \"run_type\": \"azureml.scriptrun\", \"training_percent\": \"100\", \"start_time\": \"2021-01-15T11:12:10.903746Z\", \"end_time\": \"2021-01-15T11:12:54.800625Z\", \"created_time\": \"2021-01-15T11:11:34.643197Z\", \"created_time_dt\": \"2021-01-15T11:11:34.643197Z\", \"duration\": \"0:01:20\", \"iteration\": \"29\", \"goal\": \"accuracy_max\", \"run_name\": \"RobustScaler, LightGBM\", \"run_properties\": \"copy=True, quantile_range=[10, 90], with_centering=True,\\n             with_scaling=True\", \"primary_metric\": 0.84609428, \"best_metric\": 0.84609428}, {\"run_id\": \"AutoML_90066085-ec01-4d85-a02e-d9b9050f081f_30\", \"run_number\": 36, \"metric\": null, \"status\": \"Completed\", \"run_type\": \"azureml.scriptrun\", \"training_percent\": \"100\", \"start_time\": \"2021-01-15T11:12:32.748511Z\", \"end_time\": \"2021-01-15T11:13:13.70338Z\", \"created_time\": \"2021-01-15T11:12:21.26407Z\", \"created_time_dt\": \"2021-01-15T11:12:21.26407Z\", \"duration\": \"0:00:52\", \"iteration\": \"30\", \"goal\": \"accuracy_max\", \"run_name\": \"SparseNormalizer, ExtremeRandomTrees\", \"run_properties\": \"<azureml.automl.runtime.shared.model_wrappers.SparseNormalizer object at 0x7ff0f7a365f8\", \"primary_metric\": 0.41205387, \"best_metric\": 0.84609428}, {\"run_id\": \"AutoML_90066085-ec01-4d85-a02e-d9b9050f081f_31\", \"run_number\": 37, \"metric\": null, \"status\": \"Completed\", \"run_type\": \"azureml.scriptrun\", \"training_percent\": \"100\", \"start_time\": \"2021-01-15T11:12:38.656134Z\", \"end_time\": \"2021-01-15T11:13:15.537593Z\", \"created_time\": \"2021-01-15T11:12:26.124136Z\", \"created_time_dt\": \"2021-01-15T11:12:26.124136Z\", \"duration\": \"0:00:49\", \"iteration\": \"31\", \"goal\": \"accuracy_max\", \"run_name\": \"SparseNormalizer, ExtremeRandomTrees\", \"run_properties\": \"<azureml.automl.runtime.shared.model_wrappers.SparseNormalizer object at 0x7f65cc0db588\", \"primary_metric\": 0.75582492, \"best_metric\": 0.84609428}, {\"run_id\": \"AutoML_90066085-ec01-4d85-a02e-d9b9050f081f_32\", \"run_number\": 38, \"metric\": null, \"status\": \"Completed\", \"run_type\": \"azureml.scriptrun\", \"training_percent\": \"100\", \"start_time\": \"2021-01-15T11:12:53.631622Z\", \"end_time\": \"2021-01-15T11:13:36.292396Z\", \"created_time\": \"2021-01-15T11:12:26.128209Z\", \"created_time_dt\": \"2021-01-15T11:12:26.128209Z\", \"duration\": \"0:01:10\", \"iteration\": \"32\", \"goal\": \"accuracy_max\", \"run_name\": \"StandardScalerWrapper, ExtremeRandomTrees\", \"run_properties\": \"<azureml.automl.runtime.shared.model_wrappers.StandardScalerWrapper object at 0x7efca0330128\", \"primary_metric\": 0.80919192, \"best_metric\": 0.84609428}, {\"run_id\": \"AutoML_90066085-ec01-4d85-a02e-d9b9050f081f_33\", \"run_number\": 39, \"metric\": null, \"status\": \"Completed\", \"run_type\": \"azureml.scriptrun\", \"training_percent\": \"100\", \"start_time\": \"2021-01-15T11:13:00.341893Z\", \"end_time\": \"2021-01-15T11:13:44.337378Z\", \"created_time\": \"2021-01-15T11:12:45.676433Z\", \"created_time_dt\": \"2021-01-15T11:12:45.676433Z\", \"duration\": \"0:00:58\", \"iteration\": \"33\", \"goal\": \"accuracy_max\", \"run_name\": \"SparseNormalizer, XGBoostClassifier\", \"run_properties\": \"<azureml.automl.runtime.shared.model_wrappers.SparseNormalizer object at 0x7f05e8db77f0\", \"primary_metric\": 0.80606061, \"best_metric\": 0.84609428}, {\"run_id\": \"AutoML_90066085-ec01-4d85-a02e-d9b9050f081f_34\", \"run_number\": 40, \"metric\": null, \"status\": \"Canceled\", \"run_type\": \"azureml.scriptrun\", \"training_percent\": \"100\", \"start_time\": \"2021-01-15T11:13:19.383665Z\", \"end_time\": \"2021-01-15T11:13:52.608313Z\", \"created_time\": \"2021-01-15T11:12:57.099591Z\", \"created_time_dt\": \"2021-01-15T11:12:57.099591Z\", \"duration\": \"0:00:55\", \"iteration\": \"34\", \"goal\": \"accuracy_max\", \"run_name\": \"StandardScalerWrapper, ExtremeRandomTrees\", \"run_properties\": \"<azureml.automl.runtime.shared.model_wrappers.StandardScalerWrapper object at 0x7f22e12aa048\", \"primary_metric\": 0.79915825, \"best_metric\": 0.84609428}, {\"run_id\": \"AutoML_90066085-ec01-4d85-a02e-d9b9050f081f_35\", \"run_number\": 41, \"metric\": null, \"status\": \"Canceled\", \"run_type\": \"azureml.scriptrun\", \"training_percent\": \"100\", \"start_time\": \"2021-01-15T11:13:30.881922Z\", \"end_time\": \"2021-01-15T11:13:52.487323Z\", \"created_time\": \"2021-01-15T11:13:17.474155Z\", \"created_time_dt\": \"2021-01-15T11:13:17.474155Z\", \"duration\": \"0:00:35\", \"iteration\": \"35\", \"goal\": null, \"run_name\": \"Canceled\", \"run_properties\": null}, {\"run_id\": \"AutoML_90066085-ec01-4d85-a02e-d9b9050f081f_36\", \"run_number\": 42, \"metric\": null, \"status\": \"Canceled\", \"run_type\": \"azureml.scriptrun\", \"training_percent\": \"100\", \"start_time\": \"2021-01-15T11:13:41.875731Z\", \"end_time\": \"2021-01-15T11:13:51.958732Z\", \"created_time\": \"2021-01-15T11:13:22.951053Z\", \"created_time_dt\": \"2021-01-15T11:13:22.951053Z\", \"duration\": \"0:00:29\", \"iteration\": \"36\", \"goal\": null, \"run_name\": \"Canceled\", \"run_properties\": null}, {\"run_id\": \"AutoML_90066085-ec01-4d85-a02e-d9b9050f081f_37\", \"run_number\": 43, \"metric\": null, \"status\": \"Canceled\", \"run_type\": \"azureml.scriptrun\", \"training_percent\": \"100\", \"start_time\": \"2021-01-15T11:13:38.927213Z\", \"end_time\": \"2021-01-15T11:13:55.273626Z\", \"created_time\": \"2021-01-15T11:13:38.927213Z\", \"created_time_dt\": \"2021-01-15T11:13:38.927213Z\", \"duration\": \"0:00:16\", \"iteration\": \"37\", \"goal\": null, \"run_name\": \"Canceled\", \"run_properties\": null}, {\"run_id\": \"AutoML_90066085-ec01-4d85-a02e-d9b9050f081f_39\", \"run_number\": 44, \"metric\": null, \"status\": \"Completed\", \"run_type\": \"azureml.scriptrun\", \"training_percent\": \"100\", \"start_time\": \"2021-01-15T11:14:08.697123Z\", \"end_time\": \"2021-01-15T11:15:16.259946Z\", \"created_time\": \"2021-01-15T11:13:56.155985Z\", \"created_time_dt\": \"2021-01-15T11:13:56.155985Z\", \"duration\": \"0:01:20\", \"iteration\": \"39\", \"goal\": \"accuracy_max\", \"run_name\": \"StackEnsemble\", \"run_properties\": \"base_learners=[('29',\\n                                        Pipeline(memory=None,\\n                                                 steps=[('robustscaler',\\n                                                         RobustScaler(copy=True,\\n                                                                      quantile_range=[10,\\n                                                                                      90],\\n                                                                      with_centering=True,\\n                                                                      with_scaling=True\", \"primary_metric\": 0.82599327, \"best_metric\": 0.85619529}, {\"run_id\": \"AutoML_90066085-ec01-4d85-a02e-d9b9050f081f_38\", \"run_number\": 45, \"metric\": null, \"status\": \"Completed\", \"run_type\": \"azureml.scriptrun\", \"training_percent\": \"100\", \"start_time\": \"2021-01-15T11:14:09.135015Z\", \"end_time\": \"2021-01-15T11:15:19.515936Z\", \"created_time\": \"2021-01-15T11:13:56.161996Z\", \"created_time_dt\": \"2021-01-15T11:13:56.161996Z\", \"duration\": \"0:01:23\", \"iteration\": \"38\", \"goal\": \"accuracy_max\", \"run_name\": \"VotingEnsemble\", \"run_properties\": \"classification_labels=None,\\n                              estimators=[('29',\\n                                           Pipeline(memory=None,\\n                                                    steps=[('robustscaler',\\n                                                            RobustScaler(copy=True,\\n                                                                         quantile_range=[10,\\n                                                                                         90],\\n                                                                         with_centering=True,\\n                                                                         with_scaling=True\", \"primary_metric\": 0.85619529, \"best_metric\": 0.85619529}], \"children_metrics\": {\"categories\": [0], \"series\": {\"balanced_accuracy\": [{\"categories\": [\"0\", \"1\", \"2\", \"3\", \"4\", \"5\", \"6\", \"7\", \"8\", \"9\", \"10\", \"11\", \"12\", \"13\", \"14\", \"15\", \"16\", \"17\", \"18\", \"19\", \"20\", \"21\", \"22\", \"23\", \"24\", \"25\", \"26\", \"27\", \"28\", \"29\", \"30\", \"31\", \"32\", \"33\", \"34\", \"38\", \"39\"], \"mode\": \"markers\", \"name\": \"balanced_accuracy\", \"stepped\": false, \"type\": \"scatter\", \"data\": [0.7665542389680322, 0.7899604037535072, 0.8191136949757639, 0.7627247937592765, 0.8133352564387047, 0.6314538676607642, 0.753016563361391, 0.6338791993964408, 0.5796606951779366, 0.7941130785958372, 0.7776308328032465, 0.7634839272770307, 0.7302509405957682, 0.7986175831003418, 0.7945965670103602, 0.7177500160258781, 0.6577629353491422, 0.7204998101549825, 0.7648411958756786, 0.7852571783606267, 0.7643049453394282, 0.654566882153089, 0.7508128818473646, 0.7796286434217469, 0.7113564303219476, 0.5, 0.5625009245698901, 0.7754759685794168, 0.7335056731608455, 0.814145919318333, 0.4547414409483375, 0.7454501299328885, 0.7960078304905891, 0.7604865949693536, 0.8016962775583466, 0.8124328762259796, 0.7842719566857497]}, {\"categories\": [\"0\", \"1\", \"2\", \"3\", \"4\", \"5\", \"6\", \"7\", \"8\", \"9\", \"10\", \"11\", \"12\", \"13\", \"14\", \"15\", \"16\", \"17\", \"18\", \"19\", \"20\", \"21\", \"22\", \"23\", \"24\", \"25\", \"26\", \"27\", \"28\", \"29\", \"30\", \"31\", \"32\", \"33\", \"34\", \"38\", \"39\"], \"mode\": \"lines\", \"name\": \"balanced_accuracy_max\", \"stepped\": true, \"type\": \"scatter\", \"data\": [0.7665542389680322, 0.7899604037535072, 0.8191136949757639, 0.8191136949757639, 0.8191136949757639, 0.8191136949757639, 0.8191136949757639, 0.8191136949757639, 0.8191136949757639, 0.8191136949757639, 0.8191136949757639, 0.8191136949757639, 0.8191136949757639, 0.8191136949757639, 0.8191136949757639, 0.8191136949757639, 0.8191136949757639, 0.8191136949757639, 0.8191136949757639, 0.8191136949757639, 0.8191136949757639, 0.8191136949757639, 0.8191136949757639, 0.8191136949757639, 0.8191136949757639, 0.8191136949757639, 0.8191136949757639, 0.8191136949757639, 0.8191136949757639, 0.8191136949757639, 0.8191136949757639, 0.8191136949757639, 0.8191136949757639, 0.8191136949757639, 0.8191136949757639, 0.8191136949757639, 0.8191136949757639]}], \"norm_macro_recall\": [{\"categories\": [\"0\", \"1\", \"2\", \"3\", \"4\", \"5\", \"6\", \"7\", \"8\", \"9\", \"10\", \"11\", \"12\", \"13\", \"14\", \"15\", \"16\", \"17\", \"18\", \"19\", \"20\", \"21\", \"22\", \"23\", \"24\", \"25\", \"26\", \"27\", \"28\", \"29\", \"30\", \"31\", \"32\", \"33\", \"34\", \"38\", \"39\"], \"mode\": \"markers\", \"name\": \"norm_macro_recall\", \"stepped\": false, \"type\": \"scatter\", \"data\": [0.5331084779360642, 0.5799208075070145, 0.638227389951528, 0.5254495875185531, 0.6266705128774094, 0.2629077353215284, 0.5060331267227819, 0.26775839879288155, 0.15932139035587314, 0.5882261571916745, 0.5552616656064931, 0.5269678545540615, 0.4605018811915363, 0.5972351662006834, 0.5891931340207203, 0.4355000320517562, 0.31552587069828447, 0.44099962030996515, 0.5296823917513572, 0.5705143567212532, 0.5286098906788563, 0.309133764306178, 0.5016257636947292, 0.5592572868434939, 0.42271286064389507, 0.0, 0.12500184913978019, 0.5509519371588337, 0.467011346321691, 0.6282918386366662, 0.017733990147783246, 0.49090025986577707, 0.5920156609811783, 0.5209731899387071, 0.6033925551166931, 0.6248657524519593, 0.5685439133714995]}, {\"categories\": [\"0\", \"1\", \"2\", \"3\", \"4\", \"5\", \"6\", \"7\", \"8\", \"9\", \"10\", \"11\", \"12\", \"13\", \"14\", \"15\", \"16\", \"17\", \"18\", \"19\", \"20\", \"21\", \"22\", \"23\", \"24\", \"25\", \"26\", \"27\", \"28\", \"29\", \"30\", \"31\", \"32\", \"33\", \"34\", \"38\", \"39\"], \"mode\": \"lines\", \"name\": \"norm_macro_recall_max\", \"stepped\": true, \"type\": \"scatter\", \"data\": [0.5331084779360642, 0.5799208075070145, 0.638227389951528, 0.638227389951528, 0.638227389951528, 0.638227389951528, 0.638227389951528, 0.638227389951528, 0.638227389951528, 0.638227389951528, 0.638227389951528, 0.638227389951528, 0.638227389951528, 0.638227389951528, 0.638227389951528, 0.638227389951528, 0.638227389951528, 0.638227389951528, 0.638227389951528, 0.638227389951528, 0.638227389951528, 0.638227389951528, 0.638227389951528, 0.638227389951528, 0.638227389951528, 0.638227389951528, 0.638227389951528, 0.638227389951528, 0.638227389951528, 0.638227389951528, 0.638227389951528, 0.638227389951528, 0.638227389951528, 0.638227389951528, 0.638227389951528, 0.638227389951528, 0.638227389951528]}], \"AUC_micro\": [{\"categories\": [\"0\", \"1\", \"2\", \"3\", \"4\", \"5\", \"6\", \"7\", \"8\", \"9\", \"10\", \"11\", \"12\", \"13\", \"14\", \"15\", \"16\", \"17\", \"18\", \"19\", \"20\", \"21\", \"22\", \"23\", \"24\", \"25\", \"26\", \"27\", \"28\", \"29\", \"30\", \"31\", \"32\", \"33\", \"34\", \"38\", \"39\"], \"mode\": \"markers\", \"name\": \"AUC_micro\", \"stepped\": false, \"type\": \"scatter\", \"data\": [0.8769284528789579, 0.8907238819168114, 0.9058196476550012, 0.8844499438832772, 0.9021145733428563, 0.8109352344998809, 0.880149433731252, 0.7930986004829439, 0.7859102744617896, 0.9063081420263238, 0.8732277726762576, 0.8851369077985239, 0.8900846240179573, 0.9068988368533822, 0.8896040778151889, 0.8793059449716015, 0.8611612794612794, 0.8813441859674183, 0.8864269258238955, 0.8857636431656633, 0.8818193109546645, 0.8668221916131006, 0.8815220181614122, 0.904072441587593, 0.8582768459000781, 0.6654875352855151, 0.8413299765330068, 0.8790666870727476, 0.87373030983233, 0.891734537292113, 0.48372018501513453, 0.8293474067272048, 0.8675264258749108, 0.876616943849267, 0.8555969901030508, 0.9057781893004115, 0.8949387681529095]}, {\"categories\": [\"0\", \"1\", \"2\", \"3\", \"4\", \"5\", \"6\", \"7\", \"8\", \"9\", \"10\", \"11\", \"12\", \"13\", \"14\", \"15\", \"16\", \"17\", \"18\", \"19\", \"20\", \"21\", \"22\", \"23\", \"24\", \"25\", \"26\", \"27\", \"28\", \"29\", \"30\", \"31\", \"32\", \"33\", \"34\", \"38\", \"39\"], \"mode\": \"lines\", \"name\": \"AUC_micro_max\", \"stepped\": true, \"type\": \"scatter\", \"data\": [0.8769284528789579, 0.8907238819168114, 0.9058196476550012, 0.9058196476550012, 0.9058196476550012, 0.9058196476550012, 0.9058196476550012, 0.9058196476550012, 0.9058196476550012, 0.9063081420263238, 0.9063081420263238, 0.9063081420263238, 0.9063081420263238, 0.9068988368533822, 0.9068988368533822, 0.9068988368533822, 0.9068988368533822, 0.9068988368533822, 0.9068988368533822, 0.9068988368533822, 0.9068988368533822, 0.9068988368533822, 0.9068988368533822, 0.9068988368533822, 0.9068988368533822, 0.9068988368533822, 0.9068988368533822, 0.9068988368533822, 0.9068988368533822, 0.9068988368533822, 0.9068988368533822, 0.9068988368533822, 0.9068988368533822, 0.9068988368533822, 0.9068988368533822, 0.9068988368533822, 0.9068988368533822]}], \"log_loss\": [{\"categories\": [\"0\", \"1\", \"2\", \"3\", \"4\", \"5\", \"6\", \"7\", \"8\", \"9\", \"10\", \"11\", \"12\", \"13\", \"14\", \"15\", \"16\", \"17\", \"18\", \"19\", \"20\", \"21\", \"22\", \"23\", \"24\", \"25\", \"26\", \"27\", \"28\", \"29\", \"30\", \"31\", \"32\", \"33\", \"34\", \"38\", \"39\"], \"mode\": \"markers\", \"name\": \"log_loss\", \"stepped\": false, \"type\": \"scatter\", \"data\": [0.5791360620615199, 0.4649911805096085, 0.3953215060284969, 0.4329224336328707, 0.401237413811653, 1.163753180066964, 0.45549035260202336, 0.5667519514086741, 0.5791749707425004, 0.39143663601048634, 0.4848889514346584, 0.4336877632946468, 0.4232644856812799, 0.40248549395998223, 0.44292794183036627, 0.4742379394943585, 0.5011129760306193, 0.45026228417547776, 0.45437937690129737, 0.4776229082082555, 0.43474771444624777, 0.47961145750958867, 0.43765065495288963, 0.41099714131213494, 0.46507913706444914, 0.6310866953831397, 0.532281114676853, 0.4895656199106675, 0.47418098860238306, 0.41320183912774217, 0.6806940112412212, 0.6140706475802474, 0.5790081112460909, 0.44240714873725234, 0.5813570883642262, 0.42766183658953727, 0.4281768544489332]}, {\"categories\": [\"0\", \"1\", \"2\", \"3\", \"4\", \"5\", \"6\", \"7\", \"8\", \"9\", \"10\", \"11\", \"12\", \"13\", \"14\", \"15\", \"16\", \"17\", \"18\", \"19\", \"20\", \"21\", \"22\", \"23\", \"24\", \"25\", \"26\", \"27\", \"28\", \"29\", \"30\", \"31\", \"32\", \"33\", \"34\", \"38\", \"39\"], \"mode\": \"lines\", \"name\": \"log_loss_min\", \"stepped\": true, \"type\": \"scatter\", \"data\": [0.5791360620615199, 0.4649911805096085, 0.3953215060284969, 0.3953215060284969, 0.3953215060284969, 0.3953215060284969, 0.3953215060284969, 0.3953215060284969, 0.3953215060284969, 0.39143663601048634, 0.39143663601048634, 0.39143663601048634, 0.39143663601048634, 0.39143663601048634, 0.39143663601048634, 0.39143663601048634, 0.39143663601048634, 0.39143663601048634, 0.39143663601048634, 0.39143663601048634, 0.39143663601048634, 0.39143663601048634, 0.39143663601048634, 0.39143663601048634, 0.39143663601048634, 0.39143663601048634, 0.39143663601048634, 0.39143663601048634, 0.39143663601048634, 0.39143663601048634, 0.39143663601048634, 0.39143663601048634, 0.39143663601048634, 0.39143663601048634, 0.39143663601048634, 0.39143663601048634, 0.39143663601048634]}], \"weighted_accuracy\": [{\"categories\": [\"0\", \"1\", \"2\", \"3\", \"4\", \"5\", \"6\", \"7\", \"8\", \"9\", \"10\", \"11\", \"12\", \"13\", \"14\", \"15\", \"16\", \"17\", \"18\", \"19\", \"20\", \"21\", \"22\", \"23\", \"24\", \"25\", \"26\", \"27\", \"28\", \"29\", \"30\", \"31\", \"32\", \"33\", \"34\", \"38\", \"39\"], \"mode\": \"markers\", \"name\": \"weighted_accuracy\", \"stepped\": false, \"type\": \"scatter\", \"data\": [0.8310099034285422, 0.8426543037328149, 0.862037545624235, 0.8453578469688029, 0.8656642063617036, 0.814144532774073, 0.8404979536961225, 0.8016187188101528, 0.800137042077863, 0.845872747220024, 0.8465257639803268, 0.8451312340618644, 0.8346323982789409, 0.8480591933331393, 0.8858080822812044, 0.8613207019259527, 0.8416789124107761, 0.8599370602347979, 0.8727476805373818, 0.8754175265932774, 0.8617751684779678, 0.844600280504488, 0.8542212159645884, 0.8506294384973617, 0.8074052975691272, 0.8139581109686231, 0.8258995866663928, 0.8535900738902544, 0.8665065274682099, 0.8717771613254603, 0.37975974220666103, 0.7647915334171856, 0.8197850098913574, 0.8420637974453192, 0.797634408102942, 0.8904437445416101, 0.8587498588594732]}, {\"categories\": [\"0\", \"1\", \"2\", \"3\", \"4\", \"5\", \"6\", \"7\", \"8\", \"9\", \"10\", \"11\", \"12\", \"13\", \"14\", \"15\", \"16\", \"17\", \"18\", \"19\", \"20\", \"21\", \"22\", \"23\", \"24\", \"25\", \"26\", \"27\", \"28\", \"29\", \"30\", \"31\", \"32\", \"33\", \"34\", \"38\", \"39\"], \"mode\": \"lines\", \"name\": \"weighted_accuracy_max\", \"stepped\": true, \"type\": \"scatter\", \"data\": [0.8310099034285422, 0.8426543037328149, 0.862037545624235, 0.862037545624235, 0.8656642063617036, 0.8656642063617036, 0.8656642063617036, 0.8656642063617036, 0.8656642063617036, 0.8656642063617036, 0.8656642063617036, 0.8656642063617036, 0.8656642063617036, 0.8656642063617036, 0.8858080822812044, 0.8858080822812044, 0.8858080822812044, 0.8858080822812044, 0.8858080822812044, 0.8858080822812044, 0.8858080822812044, 0.8858080822812044, 0.8858080822812044, 0.8858080822812044, 0.8858080822812044, 0.8858080822812044, 0.8858080822812044, 0.8858080822812044, 0.8858080822812044, 0.8858080822812044, 0.8858080822812044, 0.8858080822812044, 0.8858080822812044, 0.8858080822812044, 0.8858080822812044, 0.8904437445416101, 0.8904437445416101]}], \"AUC_weighted\": [{\"categories\": [\"0\", \"1\", \"2\", \"3\", \"4\", \"5\", \"6\", \"7\", \"8\", \"9\", \"10\", \"11\", \"12\", \"13\", \"14\", \"15\", \"16\", \"17\", \"18\", \"19\", \"20\", \"21\", \"22\", \"23\", \"24\", \"25\", \"26\", \"27\", \"28\", \"29\", \"30\", \"31\", \"32\", \"33\", \"34\", \"38\", \"39\"], \"mode\": \"markers\", \"name\": \"AUC_weighted\", \"stepped\": false, \"type\": \"scatter\", \"data\": [0.8550287233045855, 0.875938401455643, 0.9023570121845985, 0.8674525264180436, 0.8992559554628521, 0.76468867882661, 0.8639005014867084, 0.7415250965250966, 0.7208138680552474, 0.8965209544519889, 0.8537696070454691, 0.8720135899446243, 0.8784674822605857, 0.9053825746929195, 0.8693108872419216, 0.8775117975117975, 0.8608583953411539, 0.8765208558312007, 0.8816005907385218, 0.8632581103270759, 0.8639196339196339, 0.867550210308831, 0.8651771969013348, 0.8982787713822198, 0.8304340793995967, 0.46732348111658456, 0.8544676203296891, 0.853917883400642, 0.859809908430598, 0.8769910550945035, 0.5894695187798636, 0.8132802260388469, 0.8574813729986145, 0.8566725839139632, 0.8563475791061999, 0.8997931922069853, 0.8824385469213055]}, {\"categories\": [\"0\", \"1\", \"2\", \"3\", \"4\", \"5\", \"6\", \"7\", \"8\", \"9\", \"10\", \"11\", \"12\", \"13\", \"14\", \"15\", \"16\", \"17\", \"18\", \"19\", \"20\", \"21\", \"22\", \"23\", \"24\", \"25\", \"26\", \"27\", \"28\", \"29\", \"30\", \"31\", \"32\", \"33\", \"34\", \"38\", \"39\"], \"mode\": \"lines\", \"name\": \"AUC_weighted_max\", \"stepped\": true, \"type\": \"scatter\", \"data\": [0.8550287233045855, 0.875938401455643, 0.9023570121845985, 0.9023570121845985, 0.9023570121845985, 0.9023570121845985, 0.9023570121845985, 0.9023570121845985, 0.9023570121845985, 0.9023570121845985, 0.9023570121845985, 0.9023570121845985, 0.9023570121845985, 0.9053825746929195, 0.9053825746929195, 0.9053825746929195, 0.9053825746929195, 0.9053825746929195, 0.9053825746929195, 0.9053825746929195, 0.9053825746929195, 0.9053825746929195, 0.9053825746929195, 0.9053825746929195, 0.9053825746929195, 0.9053825746929195, 0.9053825746929195, 0.9053825746929195, 0.9053825746929195, 0.9053825746929195, 0.9053825746929195, 0.9053825746929195, 0.9053825746929195, 0.9053825746929195, 0.9053825746929195, 0.9053825746929195, 0.9053825746929195]}], \"matthews_correlation\": [{\"categories\": [\"0\", \"1\", \"2\", \"3\", \"4\", \"5\", \"6\", \"7\", \"8\", \"9\", \"10\", \"11\", \"12\", \"13\", \"14\", \"15\", \"16\", \"17\", \"18\", \"19\", \"20\", \"21\", \"22\", \"23\", \"24\", \"25\", \"26\", \"27\", \"28\", \"29\", \"30\", \"31\", \"32\", \"33\", \"34\", \"38\", \"39\"], \"mode\": \"markers\", \"name\": \"matthews_correlation\", \"stepped\": false, \"type\": \"scatter\", \"data\": [0.5489062305154261, 0.5873460381369527, 0.6449559717796398, 0.5576214130881024, 0.637864092407026, 0.3428512953130651, 0.5331324148481571, 0.32301556936900583, 0.21611096209085512, 0.5999583545689554, 0.5770144695579107, 0.5533566738938602, 0.5016860861364374, 0.610683331861028, 0.6391060964721816, 0.5155421538620677, 0.413420030117786, 0.5233497936430596, 0.5860823436698199, 0.6173089145960722, 0.5721958566741759, 0.41823104676528705, 0.5479366428756172, 0.5828111646774666, 0.4460932631584719, 0.0, 0.25448082881012185, 0.5790926745082459, 0.5405372921033834, 0.6495196159323227, -0.08903146736255198, 0.47205059108844, 0.5782422284773591, 0.5485422969403255, 0.5766077582963202, 0.6657937107857796, 0.5955527084539197]}, {\"categories\": [\"0\", \"1\", \"2\", \"3\", \"4\", \"5\", \"6\", \"7\", \"8\", \"9\", \"10\", \"11\", \"12\", \"13\", \"14\", \"15\", \"16\", \"17\", \"18\", \"19\", \"20\", \"21\", \"22\", \"23\", \"24\", \"25\", \"26\", \"27\", \"28\", \"29\", \"30\", \"31\", \"32\", \"33\", \"34\", \"38\", \"39\"], \"mode\": \"lines\", \"name\": \"matthews_correlation_max\", \"stepped\": true, \"type\": \"scatter\", \"data\": [0.5489062305154261, 0.5873460381369527, 0.6449559717796398, 0.6449559717796398, 0.6449559717796398, 0.6449559717796398, 0.6449559717796398, 0.6449559717796398, 0.6449559717796398, 0.6449559717796398, 0.6449559717796398, 0.6449559717796398, 0.6449559717796398, 0.6449559717796398, 0.6449559717796398, 0.6449559717796398, 0.6449559717796398, 0.6449559717796398, 0.6449559717796398, 0.6449559717796398, 0.6449559717796398, 0.6449559717796398, 0.6449559717796398, 0.6449559717796398, 0.6449559717796398, 0.6449559717796398, 0.6449559717796398, 0.6449559717796398, 0.6449559717796398, 0.6495196159323227, 0.6495196159323227, 0.6495196159323227, 0.6495196159323227, 0.6495196159323227, 0.6495196159323227, 0.6657937107857796, 0.6657937107857796]}], \"average_precision_score_micro\": [{\"categories\": [\"0\", \"1\", \"2\", \"3\", \"4\", \"5\", \"6\", \"7\", \"8\", \"9\", \"10\", \"11\", \"12\", \"13\", \"14\", \"15\", \"16\", \"17\", \"18\", \"19\", \"20\", \"21\", \"22\", \"23\", \"24\", \"25\", \"26\", \"27\", \"28\", \"29\", \"30\", \"31\", \"32\", \"33\", \"34\", \"38\", \"39\"], \"mode\": \"markers\", \"name\": \"average_precision_score_micro\", \"stepped\": false, \"type\": \"scatter\", \"data\": [0.8707751210307144, 0.8886385174313017, 0.9085446043925386, 0.885429537576696, 0.9001024799411846, 0.7856048077416325, 0.8810649623487029, 0.7835513238016549, 0.7790812522337728, 0.9062868307154907, 0.8706513899656709, 0.8885879911035843, 0.8916936749056852, 0.9083383990239736, 0.8854831055953154, 0.8757839713368377, 0.8662866541207425, 0.8851867736309434, 0.8855719993495724, 0.8668312520885745, 0.8806603156537297, 0.8728990475534264, 0.8818961822582491, 0.9042832977230638, 0.8592003070767834, 0.6162152899055632, 0.8493909893179211, 0.8705643695135591, 0.8666284652131866, 0.8864959436407073, 0.5672479492668674, 0.8225520404267845, 0.862181591530612, 0.876036595820913, 0.8560516224760021, 0.9066704875166435, 0.8968959505268407]}, {\"categories\": [\"0\", \"1\", \"2\", \"3\", \"4\", \"5\", \"6\", \"7\", \"8\", \"9\", \"10\", \"11\", \"12\", \"13\", \"14\", \"15\", \"16\", \"17\", \"18\", \"19\", \"20\", \"21\", \"22\", \"23\", \"24\", \"25\", \"26\", \"27\", \"28\", \"29\", \"30\", \"31\", \"32\", \"33\", \"34\", \"38\", \"39\"], \"mode\": \"lines\", \"name\": \"average_precision_score_micro_max\", \"stepped\": true, \"type\": \"scatter\", \"data\": [0.8707751210307144, 0.8886385174313017, 0.9085446043925386, 0.9085446043925386, 0.9085446043925386, 0.9085446043925386, 0.9085446043925386, 0.9085446043925386, 0.9085446043925386, 0.9085446043925386, 0.9085446043925386, 0.9085446043925386, 0.9085446043925386, 0.9085446043925386, 0.9085446043925386, 0.9085446043925386, 0.9085446043925386, 0.9085446043925386, 0.9085446043925386, 0.9085446043925386, 0.9085446043925386, 0.9085446043925386, 0.9085446043925386, 0.9085446043925386, 0.9085446043925386, 0.9085446043925386, 0.9085446043925386, 0.9085446043925386, 0.9085446043925386, 0.9085446043925386, 0.9085446043925386, 0.9085446043925386, 0.9085446043925386, 0.9085446043925386, 0.9085446043925386, 0.9085446043925386, 0.9085446043925386]}], \"f1_score_micro\": [{\"categories\": [\"0\", \"1\", \"2\", \"3\", \"4\", \"5\", \"6\", \"7\", \"8\", \"9\", \"10\", \"11\", \"12\", \"13\", \"14\", \"15\", \"16\", \"17\", \"18\", \"19\", \"20\", \"21\", \"22\", \"23\", \"24\", \"25\", \"26\", \"27\", \"28\", \"29\", \"30\", \"31\", \"32\", \"33\", \"34\", \"38\", \"39\"], \"mode\": \"markers\", \"name\": \"f1_score_micro\", \"stepped\": false, \"type\": \"scatter\", \"data\": [0.8025252525252525, 0.8192929292929293, 0.8427609427609428, 0.8091245791245791, 0.8426936026936026, 0.7356228956228956, 0.8024915824915825, 0.729023569023569, 0.7057239057239056, 0.8226599326599326, 0.816060606060606, 0.8093939393939394, 0.7892255892255893, 0.8258922558922559, 0.8460942760942761, 0.7992592592592592, 0.7625252525252524, 0.7992929292929292, 0.826026936026936, 0.8360606060606061, 0.8193265993265993, 0.7625925925925925, 0.8092592592592592, 0.8193265993265993, 0.7658249158249157, 0.6790235690235691, 0.7124242424242425, 0.8193939393939395, 0.8092929292929293, 0.8460942760942762, 0.412053872053872, 0.7558249158249158, 0.8091919191919192, 0.806060606060606, 0.7991582491582491, 0.8561952861952862, 0.8259932659932661]}, {\"categories\": [\"0\", \"1\", \"2\", \"3\", \"4\", \"5\", \"6\", \"7\", \"8\", \"9\", \"10\", \"11\", \"12\", \"13\", \"14\", \"15\", \"16\", \"17\", \"18\", \"19\", \"20\", \"21\", \"22\", \"23\", \"24\", \"25\", \"26\", \"27\", \"28\", \"29\", \"30\", \"31\", \"32\", \"33\", \"34\", \"38\", \"39\"], \"mode\": \"lines\", \"name\": \"f1_score_micro_max\", \"stepped\": true, \"type\": \"scatter\", \"data\": [0.8025252525252525, 0.8192929292929293, 0.8427609427609428, 0.8427609427609428, 0.8427609427609428, 0.8427609427609428, 0.8427609427609428, 0.8427609427609428, 0.8427609427609428, 0.8427609427609428, 0.8427609427609428, 0.8427609427609428, 0.8427609427609428, 0.8427609427609428, 0.8460942760942761, 0.8460942760942761, 0.8460942760942761, 0.8460942760942761, 0.8460942760942761, 0.8460942760942761, 0.8460942760942761, 0.8460942760942761, 0.8460942760942761, 0.8460942760942761, 0.8460942760942761, 0.8460942760942761, 0.8460942760942761, 0.8460942760942761, 0.8460942760942761, 0.8460942760942762, 0.8460942760942762, 0.8460942760942762, 0.8460942760942762, 0.8460942760942762, 0.8460942760942762, 0.8561952861952862, 0.8561952861952862]}], \"precision_score_weighted\": [{\"categories\": [\"0\", \"1\", \"2\", \"3\", \"4\", \"5\", \"6\", \"7\", \"8\", \"9\", \"10\", \"11\", \"12\", \"13\", \"14\", \"15\", \"16\", \"17\", \"18\", \"19\", \"20\", \"21\", \"22\", \"23\", \"24\", \"25\", \"26\", \"27\", \"28\", \"29\", \"30\", \"31\", \"32\", \"33\", \"34\", \"38\", \"39\"], \"mode\": \"markers\", \"name\": \"precision_score_weighted\", \"stepped\": false, \"type\": \"scatter\", \"data\": [0.8103076903348296, 0.8235687391092353, 0.8488485864886326, 0.8159040902765581, 0.8466471208872273, 0.7369734355338425, 0.802265001796607, 0.7215962401791015, 0.6789618637294698, 0.8318189531706924, 0.8209253215826392, 0.8084514584514585, 0.7932816618644488, 0.8364259308484455, 0.850429438762772, 0.8057040309651328, 0.7720383277842338, 0.8119992386183142, 0.8281669070783905, 0.84015949973065, 0.8212993956723501, 0.7781545987747537, 0.8113180667104718, 0.8230756408276827, 0.7655957395040565, 0.46228299493248987, 0.7562797008863206, 0.8225500306337666, 0.8127011643929994, 0.8521865577876896, 0.3546347553815678, 0.7739479969185196, 0.8191973507058896, 0.8079769517600085, 0.8198057745658248, 0.8596086421086423, 0.8299012987831751]}, {\"categories\": [\"0\", \"1\", \"2\", \"3\", \"4\", \"5\", \"6\", \"7\", \"8\", \"9\", \"10\", \"11\", \"12\", \"13\", \"14\", \"15\", \"16\", \"17\", \"18\", \"19\", \"20\", \"21\", \"22\", \"23\", \"24\", \"25\", \"26\", \"27\", \"28\", \"29\", \"30\", \"31\", \"32\", \"33\", \"34\", \"38\", \"39\"], \"mode\": \"lines\", \"name\": \"precision_score_weighted_max\", \"stepped\": true, \"type\": \"scatter\", \"data\": [0.8103076903348296, 0.8235687391092353, 0.8488485864886326, 0.8488485864886326, 0.8488485864886326, 0.8488485864886326, 0.8488485864886326, 0.8488485864886326, 0.8488485864886326, 0.8488485864886326, 0.8488485864886326, 0.8488485864886326, 0.8488485864886326, 0.8488485864886326, 0.850429438762772, 0.850429438762772, 0.850429438762772, 0.850429438762772, 0.850429438762772, 0.850429438762772, 0.850429438762772, 0.850429438762772, 0.850429438762772, 0.850429438762772, 0.850429438762772, 0.850429438762772, 0.850429438762772, 0.850429438762772, 0.850429438762772, 0.8521865577876896, 0.8521865577876896, 0.8521865577876896, 0.8521865577876896, 0.8521865577876896, 0.8521865577876896, 0.8596086421086423, 0.8596086421086423]}], \"precision_score_macro\": [{\"categories\": [\"0\", \"1\", \"2\", \"3\", \"4\", \"5\", \"6\", \"7\", \"8\", \"9\", \"10\", \"11\", \"12\", \"13\", \"14\", \"15\", \"16\", \"17\", \"18\", \"19\", \"20\", \"21\", \"22\", \"23\", \"24\", \"25\", \"26\", \"27\", \"28\", \"29\", \"30\", \"31\", \"32\", \"33\", \"34\", \"38\", \"39\"], \"mode\": \"markers\", \"name\": \"precision_score_macro\", \"stepped\": false, \"type\": \"scatter\", \"data\": [0.7842311567478019, 0.7983113869170717, 0.8269336473610048, 0.7976671367259769, 0.8254388128339736, 0.7248861711880578, 0.7815505461320623, 0.698055005633778, 0.6501294707407016, 0.8078144006112856, 0.8012361483177445, 0.7911924049855085, 0.7749405725540987, 0.8137879420774158, 0.8474160524160524, 0.8064114504322971, 0.7716062397010303, 0.8137064943364619, 0.8246479397795188, 0.8348475760756463, 0.8109070699282297, 0.7841739655693143, 0.8001601420588762, 0.8048892368513275, 0.7365374778300474, 0.33951178451178454, 0.7751384750977804, 0.8054414050790862, 0.8128727883483972, 0.8372424691629599, 0.3395591051328757, 0.7273783512692505, 0.7826851778464682, 0.7903208265300835, 0.7756765045716548, 0.8557763682763683, 0.8134573110905509]}, {\"categories\": [\"0\", \"1\", \"2\", \"3\", \"4\", \"5\", \"6\", \"7\", \"8\", \"9\", \"10\", \"11\", \"12\", \"13\", \"14\", \"15\", \"16\", \"17\", \"18\", \"19\", \"20\", \"21\", \"22\", \"23\", \"24\", \"25\", \"26\", \"27\", \"28\", \"29\", \"30\", \"31\", \"32\", \"33\", \"34\", \"38\", \"39\"], \"mode\": \"lines\", \"name\": \"precision_score_macro_max\", \"stepped\": true, \"type\": \"scatter\", \"data\": [0.7842311567478019, 0.7983113869170717, 0.8269336473610048, 0.8269336473610048, 0.8269336473610048, 0.8269336473610048, 0.8269336473610048, 0.8269336473610048, 0.8269336473610048, 0.8269336473610048, 0.8269336473610048, 0.8269336473610048, 0.8269336473610048, 0.8269336473610048, 0.8474160524160524, 0.8474160524160524, 0.8474160524160524, 0.8474160524160524, 0.8474160524160524, 0.8474160524160524, 0.8474160524160524, 0.8474160524160524, 0.8474160524160524, 0.8474160524160524, 0.8474160524160524, 0.8474160524160524, 0.8474160524160524, 0.8474160524160524, 0.8474160524160524, 0.8474160524160524, 0.8474160524160524, 0.8474160524160524, 0.8474160524160524, 0.8474160524160524, 0.8474160524160524, 0.8557763682763683, 0.8557763682763683]}], \"precision_score_micro\": [{\"categories\": [\"0\", \"1\", \"2\", \"3\", \"4\", \"5\", \"6\", \"7\", \"8\", \"9\", \"10\", \"11\", \"12\", \"13\", \"14\", \"15\", \"16\", \"17\", \"18\", \"19\", \"20\", \"21\", \"22\", \"23\", \"24\", \"25\", \"26\", \"27\", \"28\", \"29\", \"30\", \"31\", \"32\", \"33\", \"34\", \"38\", \"39\"], \"mode\": \"markers\", \"name\": \"precision_score_micro\", \"stepped\": false, \"type\": \"scatter\", \"data\": [0.8025252525252524, 0.8192929292929293, 0.8427609427609428, 0.8091245791245791, 0.8426936026936027, 0.7356228956228956, 0.8024915824915825, 0.729023569023569, 0.7057239057239056, 0.8226599326599326, 0.816060606060606, 0.8093939393939394, 0.7892255892255893, 0.8258922558922559, 0.8460942760942761, 0.7992592592592592, 0.7625252525252525, 0.7992929292929292, 0.826026936026936, 0.8360606060606061, 0.8193265993265993, 0.7625925925925926, 0.8092592592592592, 0.8193265993265993, 0.7658249158249159, 0.6790235690235691, 0.7124242424242425, 0.8193939393939395, 0.8092929292929293, 0.8460942760942761, 0.412053872053872, 0.7558249158249158, 0.8091919191919192, 0.8060606060606061, 0.7991582491582491, 0.8561952861952862, 0.8259932659932661]}, {\"categories\": [\"0\", \"1\", \"2\", \"3\", \"4\", \"5\", \"6\", \"7\", \"8\", \"9\", \"10\", \"11\", \"12\", \"13\", \"14\", \"15\", \"16\", \"17\", \"18\", \"19\", \"20\", \"21\", \"22\", \"23\", \"24\", \"25\", \"26\", \"27\", \"28\", \"29\", \"30\", \"31\", \"32\", \"33\", \"34\", \"38\", \"39\"], \"mode\": \"lines\", \"name\": \"precision_score_micro_max\", \"stepped\": true, \"type\": \"scatter\", \"data\": [0.8025252525252524, 0.8192929292929293, 0.8427609427609428, 0.8427609427609428, 0.8427609427609428, 0.8427609427609428, 0.8427609427609428, 0.8427609427609428, 0.8427609427609428, 0.8427609427609428, 0.8427609427609428, 0.8427609427609428, 0.8427609427609428, 0.8427609427609428, 0.8460942760942761, 0.8460942760942761, 0.8460942760942761, 0.8460942760942761, 0.8460942760942761, 0.8460942760942761, 0.8460942760942761, 0.8460942760942761, 0.8460942760942761, 0.8460942760942761, 0.8460942760942761, 0.8460942760942761, 0.8460942760942761, 0.8460942760942761, 0.8460942760942761, 0.8460942760942761, 0.8460942760942761, 0.8460942760942761, 0.8460942760942761, 0.8460942760942761, 0.8460942760942761, 0.8561952861952862, 0.8561952861952862]}], \"accuracy\": [{\"categories\": [\"0\", \"1\", \"2\", \"3\", \"4\", \"5\", \"6\", \"7\", \"8\", \"9\", \"10\", \"11\", \"12\", \"13\", \"14\", \"15\", \"16\", \"17\", \"18\", \"19\", \"20\", \"21\", \"22\", \"23\", \"24\", \"25\", \"26\", \"27\", \"28\", \"29\", \"30\", \"31\", \"32\", \"33\", \"34\", \"38\", \"39\"], \"mode\": \"markers\", \"name\": \"accuracy\", \"stepped\": false, \"type\": \"scatter\", \"data\": [0.8025252525252524, 0.8192929292929293, 0.8427609427609428, 0.8091245791245791, 0.8426936026936027, 0.7356228956228956, 0.8024915824915825, 0.729023569023569, 0.7057239057239056, 0.8226599326599326, 0.816060606060606, 0.8093939393939394, 0.7892255892255893, 0.8258922558922559, 0.8460942760942761, 0.7992592592592592, 0.7625252525252525, 0.7992929292929292, 0.826026936026936, 0.8360606060606061, 0.8193265993265993, 0.7625925925925926, 0.8092592592592592, 0.8193265993265993, 0.7658249158249159, 0.6790235690235691, 0.7124242424242425, 0.8193939393939395, 0.8092929292929293, 0.8460942760942761, 0.412053872053872, 0.7558249158249158, 0.8091919191919192, 0.8060606060606061, 0.7991582491582491, 0.8561952861952862, 0.8259932659932661]}, {\"categories\": [\"0\", \"1\", \"2\", \"3\", \"4\", \"5\", \"6\", \"7\", \"8\", \"9\", \"10\", \"11\", \"12\", \"13\", \"14\", \"15\", \"16\", \"17\", \"18\", \"19\", \"20\", \"21\", \"22\", \"23\", \"24\", \"25\", \"26\", \"27\", \"28\", \"29\", \"30\", \"31\", \"32\", \"33\", \"34\", \"38\", \"39\"], \"mode\": \"lines\", \"name\": \"accuracy_max\", \"stepped\": true, \"type\": \"scatter\", \"data\": [0.8025252525252524, 0.8192929292929293, 0.8427609427609428, 0.8427609427609428, 0.8427609427609428, 0.8427609427609428, 0.8427609427609428, 0.8427609427609428, 0.8427609427609428, 0.8427609427609428, 0.8427609427609428, 0.8427609427609428, 0.8427609427609428, 0.8427609427609428, 0.8460942760942761, 0.8460942760942761, 0.8460942760942761, 0.8460942760942761, 0.8460942760942761, 0.8460942760942761, 0.8460942760942761, 0.8460942760942761, 0.8460942760942761, 0.8460942760942761, 0.8460942760942761, 0.8460942760942761, 0.8460942760942761, 0.8460942760942761, 0.8460942760942761, 0.8460942760942761, 0.8460942760942761, 0.8460942760942761, 0.8460942760942761, 0.8460942760942761, 0.8460942760942761, 0.8561952861952862, 0.8561952861952862]}], \"f1_score_macro\": [{\"categories\": [\"0\", \"1\", \"2\", \"3\", \"4\", \"5\", \"6\", \"7\", \"8\", \"9\", \"10\", \"11\", \"12\", \"13\", \"14\", \"15\", \"16\", \"17\", \"18\", \"19\", \"20\", \"21\", \"22\", \"23\", \"24\", \"25\", \"26\", \"27\", \"28\", \"29\", \"30\", \"31\", \"32\", \"33\", \"34\", \"38\", \"39\"], \"mode\": \"markers\", \"name\": \"f1_score_macro\", \"stepped\": false, \"type\": \"scatter\", \"data\": [0.7670520318568558, 0.7892216866138503, 0.8174158019597835, 0.7693137222040086, 0.8147554234459742, 0.6394465906832336, 0.7604583957076042, 0.6346534554968614, 0.5674205019343677, 0.7921550563034517, 0.7809103257894829, 0.7706948901564097, 0.7392261958924048, 0.79782670331891, 0.80953372655632, 0.7340581530693125, 0.6692141621342719, 0.7347803828261782, 0.7814861505108581, 0.7988773592864056, 0.7754591329574531, 0.6643814768223473, 0.763259347290835, 0.7844210021079333, 0.7152840637080402, 0.40415631893298937, 0.5265627790084312, 0.7824446680080482, 0.7533600671977627, 0.8174435413105142, 0.35913619691285686, 0.7301801536733746, 0.7863269704277706, 0.7651614235918034, 0.7820602471738063, 0.8240635137106915, 0.7896131898886783]}, {\"categories\": [\"0\", \"1\", \"2\", \"3\", \"4\", \"5\", \"6\", \"7\", \"8\", \"9\", \"10\", \"11\", \"12\", \"13\", \"14\", \"15\", \"16\", \"17\", \"18\", \"19\", \"20\", \"21\", \"22\", \"23\", \"24\", \"25\", \"26\", \"27\", \"28\", \"29\", \"30\", \"31\", \"32\", \"33\", \"34\", \"38\", \"39\"], \"mode\": \"lines\", \"name\": \"f1_score_macro_max\", \"stepped\": true, \"type\": \"scatter\", \"data\": [0.7670520318568558, 0.7892216866138503, 0.8174158019597835, 0.8174158019597835, 0.8174158019597835, 0.8174158019597835, 0.8174158019597835, 0.8174158019597835, 0.8174158019597835, 0.8174158019597835, 0.8174158019597835, 0.8174158019597835, 0.8174158019597835, 0.8174158019597835, 0.8174158019597835, 0.8174158019597835, 0.8174158019597835, 0.8174158019597835, 0.8174158019597835, 0.8174158019597835, 0.8174158019597835, 0.8174158019597835, 0.8174158019597835, 0.8174158019597835, 0.8174158019597835, 0.8174158019597835, 0.8174158019597835, 0.8174158019597835, 0.8174158019597835, 0.8174435413105142, 0.8174435413105142, 0.8174435413105142, 0.8174435413105142, 0.8174435413105142, 0.8174435413105142, 0.8240635137106915, 0.8240635137106915]}], \"AUC_macro\": [{\"categories\": [\"0\", \"1\", \"2\", \"3\", \"4\", \"5\", \"6\", \"7\", \"8\", \"9\", \"10\", \"11\", \"12\", \"13\", \"14\", \"15\", \"16\", \"17\", \"18\", \"19\", \"20\", \"21\", \"22\", \"23\", \"24\", \"25\", \"26\", \"27\", \"28\", \"29\", \"30\", \"31\", \"32\", \"33\", \"34\", \"38\", \"39\"], \"mode\": \"markers\", \"name\": \"AUC_macro\", \"stepped\": false, \"type\": \"scatter\", \"data\": [0.8550287233045853, 0.875938401455643, 0.9023570121845984, 0.8674525264180436, 0.8992559554628521, 0.76468867882661, 0.8639005014867084, 0.7415250965250966, 0.7208138680552474, 0.8965209544519889, 0.8537696070454691, 0.8720135899446243, 0.8784674822605857, 0.9053825746929195, 0.8693108872419217, 0.8775117975117975, 0.8608583953411539, 0.8765208558312008, 0.8816005907385218, 0.8632581103270759, 0.8639196339196339, 0.867550210308831, 0.8651771969013348, 0.8982787713822198, 0.8304340793995967, 0.46732348111658456, 0.8544676203296891, 0.853917883400642, 0.859809908430598, 0.8769910550945034, 0.5894695187798636, 0.8132802260388469, 0.8574813729986145, 0.8566725839139632, 0.8563475791061999, 0.8997931922069853, 0.8824385469213055]}, {\"categories\": [\"0\", \"1\", \"2\", \"3\", \"4\", \"5\", \"6\", \"7\", \"8\", \"9\", \"10\", \"11\", \"12\", \"13\", \"14\", \"15\", \"16\", \"17\", \"18\", \"19\", \"20\", \"21\", \"22\", \"23\", \"24\", \"25\", \"26\", \"27\", \"28\", \"29\", \"30\", \"31\", \"32\", \"33\", \"34\", \"38\", \"39\"], \"mode\": \"lines\", \"name\": \"AUC_macro_max\", \"stepped\": true, \"type\": \"scatter\", \"data\": [0.8550287233045853, 0.875938401455643, 0.9023570121845984, 0.9023570121845984, 0.9023570121845984, 0.9023570121845984, 0.9023570121845984, 0.9023570121845984, 0.9023570121845984, 0.9023570121845984, 0.9023570121845984, 0.9023570121845984, 0.9023570121845984, 0.9053825746929195, 0.9053825746929195, 0.9053825746929195, 0.9053825746929195, 0.9053825746929195, 0.9053825746929195, 0.9053825746929195, 0.9053825746929195, 0.9053825746929195, 0.9053825746929195, 0.9053825746929195, 0.9053825746929195, 0.9053825746929195, 0.9053825746929195, 0.9053825746929195, 0.9053825746929195, 0.9053825746929195, 0.9053825746929195, 0.9053825746929195, 0.9053825746929195, 0.9053825746929195, 0.9053825746929195, 0.9053825746929195, 0.9053825746929195]}], \"recall_score_macro\": [{\"categories\": [\"0\", \"1\", \"2\", \"3\", \"4\", \"5\", \"6\", \"7\", \"8\", \"9\", \"10\", \"11\", \"12\", \"13\", \"14\", \"15\", \"16\", \"17\", \"18\", \"19\", \"20\", \"21\", \"22\", \"23\", \"24\", \"25\", \"26\", \"27\", \"28\", \"29\", \"30\", \"31\", \"32\", \"33\", \"34\", \"38\", \"39\"], \"mode\": \"markers\", \"name\": \"recall_score_macro\", \"stepped\": false, \"type\": \"scatter\", \"data\": [0.7665542389680322, 0.7899604037535072, 0.8191136949757639, 0.7627247937592765, 0.8133352564387047, 0.6314538676607642, 0.753016563361391, 0.6338791993964408, 0.5796606951779366, 0.7941130785958372, 0.7776308328032465, 0.7634839272770307, 0.7302509405957682, 0.7986175831003418, 0.7945965670103602, 0.7177500160258781, 0.6577629353491422, 0.7204998101549825, 0.7648411958756786, 0.7852571783606267, 0.7643049453394282, 0.654566882153089, 0.7508128818473646, 0.7796286434217469, 0.7113564303219476, 0.5, 0.5625009245698901, 0.7754759685794168, 0.7335056731608455, 0.814145919318333, 0.4547414409483375, 0.7454501299328885, 0.7960078304905891, 0.7604865949693536, 0.8016962775583466, 0.8124328762259796, 0.7842719566857497]}, {\"categories\": [\"0\", \"1\", \"2\", \"3\", \"4\", \"5\", \"6\", \"7\", \"8\", \"9\", \"10\", \"11\", \"12\", \"13\", \"14\", \"15\", \"16\", \"17\", \"18\", \"19\", \"20\", \"21\", \"22\", \"23\", \"24\", \"25\", \"26\", \"27\", \"28\", \"29\", \"30\", \"31\", \"32\", \"33\", \"34\", \"38\", \"39\"], \"mode\": \"lines\", \"name\": \"recall_score_macro_max\", \"stepped\": true, \"type\": \"scatter\", \"data\": [0.7665542389680322, 0.7899604037535072, 0.8191136949757639, 0.8191136949757639, 0.8191136949757639, 0.8191136949757639, 0.8191136949757639, 0.8191136949757639, 0.8191136949757639, 0.8191136949757639, 0.8191136949757639, 0.8191136949757639, 0.8191136949757639, 0.8191136949757639, 0.8191136949757639, 0.8191136949757639, 0.8191136949757639, 0.8191136949757639, 0.8191136949757639, 0.8191136949757639, 0.8191136949757639, 0.8191136949757639, 0.8191136949757639, 0.8191136949757639, 0.8191136949757639, 0.8191136949757639, 0.8191136949757639, 0.8191136949757639, 0.8191136949757639, 0.8191136949757639, 0.8191136949757639, 0.8191136949757639, 0.8191136949757639, 0.8191136949757639, 0.8191136949757639, 0.8191136949757639, 0.8191136949757639]}], \"average_precision_score_weighted\": [{\"categories\": [\"0\", \"1\", \"2\", \"3\", \"4\", \"5\", \"6\", \"7\", \"8\", \"9\", \"10\", \"11\", \"12\", \"13\", \"14\", \"15\", \"16\", \"17\", \"18\", \"19\", \"20\", \"21\", \"22\", \"23\", \"24\", \"25\", \"26\", \"27\", \"28\", \"29\", \"30\", \"31\", \"32\", \"33\", \"34\", \"38\", \"39\"], \"mode\": \"markers\", \"name\": \"average_precision_score_weighted\", \"stepped\": false, \"type\": \"scatter\", \"data\": [0.8648843990393956, 0.8836277505100775, 0.9073624603592626, 0.8834308475672437, 0.902552593449205, 0.7706161800858293, 0.8753772704937952, 0.76941805047861, 0.7540230090255354, 0.9054448524241551, 0.8624339762603066, 0.8853675811007778, 0.8861849956722342, 0.9134274504619336, 0.8816207012036147, 0.878928747764978, 0.874473701763324, 0.8876716433322301, 0.8892757634900109, 0.8612423712357787, 0.8738307171956792, 0.877553252277473, 0.8773997295545515, 0.9030413840941129, 0.8439640538361252, 0.5568474819447414, 0.8700375160005992, 0.8646302429418734, 0.8669241927117977, 0.88164695076365, 0.6505961338250658, 0.8296189605222487, 0.8729304658288196, 0.8641779025585974, 0.8731043889405226, 0.9060298845518221, 0.8893665820381181]}, {\"categories\": [\"0\", \"1\", \"2\", \"3\", \"4\", \"5\", \"6\", \"7\", \"8\", \"9\", \"10\", \"11\", \"12\", \"13\", \"14\", \"15\", \"16\", \"17\", \"18\", \"19\", \"20\", \"21\", \"22\", \"23\", \"24\", \"25\", \"26\", \"27\", \"28\", \"29\", \"30\", \"31\", \"32\", \"33\", \"34\", \"38\", \"39\"], \"mode\": \"lines\", \"name\": \"average_precision_score_weighted_max\", \"stepped\": true, \"type\": \"scatter\", \"data\": [0.8648843990393956, 0.8836277505100775, 0.9073624603592626, 0.9073624603592626, 0.9073624603592626, 0.9073624603592626, 0.9073624603592626, 0.9073624603592626, 0.9073624603592626, 0.9073624603592626, 0.9073624603592626, 0.9073624603592626, 0.9073624603592626, 0.9134274504619336, 0.9134274504619336, 0.9134274504619336, 0.9134274504619336, 0.9134274504619336, 0.9134274504619336, 0.9134274504619336, 0.9134274504619336, 0.9134274504619336, 0.9134274504619336, 0.9134274504619336, 0.9134274504619336, 0.9134274504619336, 0.9134274504619336, 0.9134274504619336, 0.9134274504619336, 0.9134274504619336, 0.9134274504619336, 0.9134274504619336, 0.9134274504619336, 0.9134274504619336, 0.9134274504619336, 0.9134274504619336, 0.9134274504619336]}], \"average_precision_score_macro\": [{\"categories\": [\"0\", \"1\", \"2\", \"3\", \"4\", \"5\", \"6\", \"7\", \"8\", \"9\", \"10\", \"11\", \"12\", \"13\", \"14\", \"15\", \"16\", \"17\", \"18\", \"19\", \"20\", \"21\", \"22\", \"23\", \"24\", \"25\", \"26\", \"27\", \"28\", \"29\", \"30\", \"31\", \"32\", \"33\", \"34\", \"38\", \"39\"], \"mode\": \"markers\", \"name\": \"average_precision_score_macro\", \"stepped\": false, \"type\": \"scatter\", \"data\": [0.8323265818260129, 0.8521645844042397, 0.8829952834613609, 0.8546710950887997, 0.8723378822477414, 0.7221229209961293, 0.8436096759522199, 0.7217124986335914, 0.7054033125582921, 0.8817936055618295, 0.8308970934877967, 0.8557386113690734, 0.8553138474360514, 0.8908120472339377, 0.858640201163353, 0.8494369869953836, 0.8405020419297848, 0.8566700727851876, 0.8610032413947252, 0.8362984341999983, 0.8435185250048809, 0.8436903282866092, 0.8469396401209215, 0.8773794889558056, 0.803583132590023, 0.4898603014023783, 0.8365338125924465, 0.8375153249454025, 0.8387020544354159, 0.8539560971775441, 0.600112985026267, 0.7935465213682287, 0.8444425032212473, 0.8313642339286534, 0.8437052066816815, 0.8815318153448954, 0.8594883236857985]}, {\"categories\": [\"0\", \"1\", \"2\", \"3\", \"4\", \"5\", \"6\", \"7\", \"8\", \"9\", \"10\", \"11\", \"12\", \"13\", \"14\", \"15\", \"16\", \"17\", \"18\", \"19\", \"20\", \"21\", \"22\", \"23\", \"24\", \"25\", \"26\", \"27\", \"28\", \"29\", \"30\", \"31\", \"32\", \"33\", \"34\", \"38\", \"39\"], \"mode\": \"lines\", \"name\": \"average_precision_score_macro_max\", \"stepped\": true, \"type\": \"scatter\", \"data\": [0.8323265818260129, 0.8521645844042397, 0.8829952834613609, 0.8829952834613609, 0.8829952834613609, 0.8829952834613609, 0.8829952834613609, 0.8829952834613609, 0.8829952834613609, 0.8829952834613609, 0.8829952834613609, 0.8829952834613609, 0.8829952834613609, 0.8908120472339377, 0.8908120472339377, 0.8908120472339377, 0.8908120472339377, 0.8908120472339377, 0.8908120472339377, 0.8908120472339377, 0.8908120472339377, 0.8908120472339377, 0.8908120472339377, 0.8908120472339377, 0.8908120472339377, 0.8908120472339377, 0.8908120472339377, 0.8908120472339377, 0.8908120472339377, 0.8908120472339377, 0.8908120472339377, 0.8908120472339377, 0.8908120472339377, 0.8908120472339377, 0.8908120472339377, 0.8908120472339377, 0.8908120472339377]}], \"recall_score_micro\": [{\"categories\": [\"0\", \"1\", \"2\", \"3\", \"4\", \"5\", \"6\", \"7\", \"8\", \"9\", \"10\", \"11\", \"12\", \"13\", \"14\", \"15\", \"16\", \"17\", \"18\", \"19\", \"20\", \"21\", \"22\", \"23\", \"24\", \"25\", \"26\", \"27\", \"28\", \"29\", \"30\", \"31\", \"32\", \"33\", \"34\", \"38\", \"39\"], \"mode\": \"markers\", \"name\": \"recall_score_micro\", \"stepped\": false, \"type\": \"scatter\", \"data\": [0.8025252525252524, 0.8192929292929293, 0.8427609427609428, 0.8091245791245791, 0.8426936026936027, 0.7356228956228956, 0.8024915824915825, 0.729023569023569, 0.7057239057239056, 0.8226599326599326, 0.816060606060606, 0.8093939393939394, 0.7892255892255893, 0.8258922558922559, 0.8460942760942761, 0.7992592592592592, 0.7625252525252525, 0.7992929292929292, 0.826026936026936, 0.8360606060606061, 0.8193265993265993, 0.7625925925925926, 0.8092592592592592, 0.8193265993265993, 0.7658249158249159, 0.6790235690235691, 0.7124242424242425, 0.8193939393939395, 0.8092929292929293, 0.8460942760942761, 0.412053872053872, 0.7558249158249158, 0.8091919191919192, 0.8060606060606061, 0.7991582491582491, 0.8561952861952862, 0.8259932659932661]}, {\"categories\": [\"0\", \"1\", \"2\", \"3\", \"4\", \"5\", \"6\", \"7\", \"8\", \"9\", \"10\", \"11\", \"12\", \"13\", \"14\", \"15\", \"16\", \"17\", \"18\", \"19\", \"20\", \"21\", \"22\", \"23\", \"24\", \"25\", \"26\", \"27\", \"28\", \"29\", \"30\", \"31\", \"32\", \"33\", \"34\", \"38\", \"39\"], \"mode\": \"lines\", \"name\": \"recall_score_micro_max\", \"stepped\": true, \"type\": \"scatter\", \"data\": [0.8025252525252524, 0.8192929292929293, 0.8427609427609428, 0.8427609427609428, 0.8427609427609428, 0.8427609427609428, 0.8427609427609428, 0.8427609427609428, 0.8427609427609428, 0.8427609427609428, 0.8427609427609428, 0.8427609427609428, 0.8427609427609428, 0.8427609427609428, 0.8460942760942761, 0.8460942760942761, 0.8460942760942761, 0.8460942760942761, 0.8460942760942761, 0.8460942760942761, 0.8460942760942761, 0.8460942760942761, 0.8460942760942761, 0.8460942760942761, 0.8460942760942761, 0.8460942760942761, 0.8460942760942761, 0.8460942760942761, 0.8460942760942761, 0.8460942760942761, 0.8460942760942761, 0.8460942760942761, 0.8460942760942761, 0.8460942760942761, 0.8460942760942761, 0.8561952861952862, 0.8561952861952862]}], \"recall_score_weighted\": [{\"categories\": [\"0\", \"1\", \"2\", \"3\", \"4\", \"5\", \"6\", \"7\", \"8\", \"9\", \"10\", \"11\", \"12\", \"13\", \"14\", \"15\", \"16\", \"17\", \"18\", \"19\", \"20\", \"21\", \"22\", \"23\", \"24\", \"25\", \"26\", \"27\", \"28\", \"29\", \"30\", \"31\", \"32\", \"33\", \"34\", \"38\", \"39\"], \"mode\": \"markers\", \"name\": \"recall_score_weighted\", \"stepped\": false, \"type\": \"scatter\", \"data\": [0.8025252525252524, 0.8192929292929293, 0.8427609427609428, 0.8091245791245791, 0.8426936026936027, 0.7356228956228956, 0.8024915824915825, 0.729023569023569, 0.7057239057239056, 0.8226599326599326, 0.816060606060606, 0.8093939393939394, 0.7892255892255893, 0.8258922558922559, 0.8460942760942761, 0.7992592592592592, 0.7625252525252525, 0.7992929292929292, 0.826026936026936, 0.8360606060606061, 0.8193265993265993, 0.7625925925925926, 0.8092592592592592, 0.8193265993265993, 0.7658249158249159, 0.6790235690235691, 0.7124242424242425, 0.8193939393939395, 0.8092929292929293, 0.8460942760942761, 0.412053872053872, 0.7558249158249158, 0.8091919191919192, 0.8060606060606061, 0.7991582491582491, 0.8561952861952862, 0.8259932659932661]}, {\"categories\": [\"0\", \"1\", \"2\", \"3\", \"4\", \"5\", \"6\", \"7\", \"8\", \"9\", \"10\", \"11\", \"12\", \"13\", \"14\", \"15\", \"16\", \"17\", \"18\", \"19\", \"20\", \"21\", \"22\", \"23\", \"24\", \"25\", \"26\", \"27\", \"28\", \"29\", \"30\", \"31\", \"32\", \"33\", \"34\", \"38\", \"39\"], \"mode\": \"lines\", \"name\": \"recall_score_weighted_max\", \"stepped\": true, \"type\": \"scatter\", \"data\": [0.8025252525252524, 0.8192929292929293, 0.8427609427609428, 0.8427609427609428, 0.8427609427609428, 0.8427609427609428, 0.8427609427609428, 0.8427609427609428, 0.8427609427609428, 0.8427609427609428, 0.8427609427609428, 0.8427609427609428, 0.8427609427609428, 0.8427609427609428, 0.8460942760942761, 0.8460942760942761, 0.8460942760942761, 0.8460942760942761, 0.8460942760942761, 0.8460942760942761, 0.8460942760942761, 0.8460942760942761, 0.8460942760942761, 0.8460942760942761, 0.8460942760942761, 0.8460942760942761, 0.8460942760942761, 0.8460942760942761, 0.8460942760942761, 0.8460942760942761, 0.8460942760942761, 0.8460942760942761, 0.8460942760942761, 0.8460942760942761, 0.8460942760942761, 0.8561952861952862, 0.8561952861952862]}], \"f1_score_weighted\": [{\"categories\": [\"0\", \"1\", \"2\", \"3\", \"4\", \"5\", \"6\", \"7\", \"8\", \"9\", \"10\", \"11\", \"12\", \"13\", \"14\", \"15\", \"16\", \"17\", \"18\", \"19\", \"20\", \"21\", \"22\", \"23\", \"24\", \"25\", \"26\", \"27\", \"28\", \"29\", \"30\", \"31\", \"32\", \"33\", \"34\", \"38\", \"39\"], \"mode\": \"markers\", \"name\": \"f1_score_weighted\", \"stepped\": false, \"type\": \"scatter\", \"data\": [0.7994850745596541, 0.8173118768300475, 0.841154481889759, 0.8035043345477146, 0.8408151726554939, 0.7075391916546838, 0.7966796513718304, 0.7005005774460514, 0.6573252495799045, 0.819954746821324, 0.8114441718384593, 0.8033925219486608, 0.7803180049987665, 0.8242372337872675, 0.8389716345024577, 0.7808575550301514, 0.7331934340984684, 0.7802473065797187, 0.8165845906614643, 0.8290633370476304, 0.8104338432941892, 0.729093582054793, 0.8003385239560658, 0.8146641083593452, 0.7586813313142535, 0.5497345001811592, 0.6317499182306495, 0.8142940471109484, 0.7959689175691903, 0.8422827901351129, 0.35791243036715875, 0.7598616810042126, 0.8118111136764187, 0.7985416203194462, 0.8040985988555941, 0.8496572501795812, 0.8202587417513515]}, {\"categories\": [\"0\", \"1\", \"2\", \"3\", \"4\", \"5\", \"6\", \"7\", \"8\", \"9\", \"10\", \"11\", \"12\", \"13\", \"14\", \"15\", \"16\", \"17\", \"18\", \"19\", \"20\", \"21\", \"22\", \"23\", \"24\", \"25\", \"26\", \"27\", \"28\", \"29\", \"30\", \"31\", \"32\", \"33\", \"34\", \"38\", \"39\"], \"mode\": \"lines\", \"name\": \"f1_score_weighted_max\", \"stepped\": true, \"type\": \"scatter\", \"data\": [0.7994850745596541, 0.8173118768300475, 0.841154481889759, 0.841154481889759, 0.841154481889759, 0.841154481889759, 0.841154481889759, 0.841154481889759, 0.841154481889759, 0.841154481889759, 0.841154481889759, 0.841154481889759, 0.841154481889759, 0.841154481889759, 0.841154481889759, 0.841154481889759, 0.841154481889759, 0.841154481889759, 0.841154481889759, 0.841154481889759, 0.841154481889759, 0.841154481889759, 0.841154481889759, 0.841154481889759, 0.841154481889759, 0.841154481889759, 0.841154481889759, 0.841154481889759, 0.841154481889759, 0.8422827901351129, 0.8422827901351129, 0.8422827901351129, 0.8422827901351129, 0.8422827901351129, 0.8422827901351129, 0.8496572501795812, 0.8496572501795812]}]}, \"metricName\": null, \"primaryMetricName\": \"accuracy\", \"showLegend\": false}, \"run_metrics\": [{\"name\": \"experiment_status\", \"run_id\": \"AutoML_90066085-ec01-4d85-a02e-d9b9050f081f\", \"categories\": [0, 1, 2, 3, 4, 5, 6, 7, 8, 9, 10, 11, 12, 13], \"series\": [{\"data\": [\"DatasetEvaluation\", \"FeaturesGeneration\", \"DatasetFeaturization\", \"DatasetFeaturizationCompleted\", \"DatasetCrossValidationSplit\", \"ModelSelection\", \"BestRunExplainModel\", \"ModelExplanationDataSetSetup\", \"PickSurrogateModel\", \"EngineeredFeatureExplanations\", \"EngineeredFeatureExplanations\", \"RawFeaturesExplanations\", \"RawFeaturesExplanations\", \"BestRunExplainModel\"]}]}, {\"name\": \"experiment_status_description\", \"run_id\": \"AutoML_90066085-ec01-4d85-a02e-d9b9050f081f\", \"categories\": [0, 1, 2, 3, 4, 5, 6, 7, 8, 9, 10, 11, 12, 13], \"series\": [{\"data\": [\"Gathering dataset statistics.\", \"Generating features for the dataset.\", \"Beginning to fit featurizers and featurize the dataset.\", \"Completed fit featurizers and featurizing the dataset.\", \"Generating individually featurized CV splits.\", \"Beginning model selection.\", \"Best run model explanations started\", \"Model explanations data setup completed\", \"Choosing LightGBM as the surrogate model for explanations\", \"Computation of engineered features started\", \"Computation of engineered features completed\", \"Computation of raw features started\", \"Computation of raw features completed\", \"Best run model explanations completed\"]}]}, {\"name\": \"accuracy\", \"run_id\": \"AutoML_90066085-ec01-4d85-a02e-d9b9050f081f\", \"categories\": [0], \"series\": [{\"data\": [0.8561952861952862]}]}, {\"name\": \"recall_score_macro\", \"run_id\": \"AutoML_90066085-ec01-4d85-a02e-d9b9050f081f\", \"categories\": [0], \"series\": [{\"data\": [0.8124328762259796]}]}, {\"name\": \"matthews_correlation\", \"run_id\": \"AutoML_90066085-ec01-4d85-a02e-d9b9050f081f\", \"categories\": [0], \"series\": [{\"data\": [0.6657937107857796]}]}, {\"name\": \"precision_score_macro\", \"run_id\": \"AutoML_90066085-ec01-4d85-a02e-d9b9050f081f\", \"categories\": [0], \"series\": [{\"data\": [0.8557763682763683]}]}, {\"name\": \"average_precision_score_macro\", \"run_id\": \"AutoML_90066085-ec01-4d85-a02e-d9b9050f081f\", \"categories\": [0], \"series\": [{\"data\": [0.8815318153448954]}]}, {\"name\": \"average_precision_score_weighted\", \"run_id\": \"AutoML_90066085-ec01-4d85-a02e-d9b9050f081f\", \"categories\": [0], \"series\": [{\"data\": [0.9060298845518221]}]}, {\"name\": \"AUC_macro\", \"run_id\": \"AutoML_90066085-ec01-4d85-a02e-d9b9050f081f\", \"categories\": [0], \"series\": [{\"data\": [0.8997931922069853]}]}, {\"name\": \"precision_score_weighted\", \"run_id\": \"AutoML_90066085-ec01-4d85-a02e-d9b9050f081f\", \"categories\": [0], \"series\": [{\"data\": [0.8596086421086423]}]}, {\"name\": \"recall_score_weighted\", \"run_id\": \"AutoML_90066085-ec01-4d85-a02e-d9b9050f081f\", \"categories\": [0], \"series\": [{\"data\": [0.8561952861952862]}]}, {\"name\": \"f1_score_micro\", \"run_id\": \"AutoML_90066085-ec01-4d85-a02e-d9b9050f081f\", \"categories\": [0], \"series\": [{\"data\": [0.8561952861952862]}]}, {\"name\": \"f1_score_weighted\", \"run_id\": \"AutoML_90066085-ec01-4d85-a02e-d9b9050f081f\", \"categories\": [0], \"series\": [{\"data\": [0.8496572501795812]}]}, {\"name\": \"f1_score_macro\", \"run_id\": \"AutoML_90066085-ec01-4d85-a02e-d9b9050f081f\", \"categories\": [0], \"series\": [{\"data\": [0.8240635137106915]}]}, {\"name\": \"weighted_accuracy\", \"run_id\": \"AutoML_90066085-ec01-4d85-a02e-d9b9050f081f\", \"categories\": [0], \"series\": [{\"data\": [0.8904437445416101]}]}, {\"name\": \"recall_score_micro\", \"run_id\": \"AutoML_90066085-ec01-4d85-a02e-d9b9050f081f\", \"categories\": [0], \"series\": [{\"data\": [0.8561952861952862]}]}, {\"name\": \"AUC_weighted\", \"run_id\": \"AutoML_90066085-ec01-4d85-a02e-d9b9050f081f\", \"categories\": [0], \"series\": [{\"data\": [0.8997931922069853]}]}, {\"name\": \"balanced_accuracy\", \"run_id\": \"AutoML_90066085-ec01-4d85-a02e-d9b9050f081f\", \"categories\": [0], \"series\": [{\"data\": [0.8124328762259796]}]}, {\"name\": \"average_precision_score_micro\", \"run_id\": \"AutoML_90066085-ec01-4d85-a02e-d9b9050f081f\", \"categories\": [0], \"series\": [{\"data\": [0.9066704875166435]}]}, {\"name\": \"AUC_micro\", \"run_id\": \"AutoML_90066085-ec01-4d85-a02e-d9b9050f081f\", \"categories\": [0], \"series\": [{\"data\": [0.9057781893004115]}]}, {\"name\": \"precision_score_micro\", \"run_id\": \"AutoML_90066085-ec01-4d85-a02e-d9b9050f081f\", \"categories\": [0], \"series\": [{\"data\": [0.8561952861952862]}]}, {\"name\": \"norm_macro_recall\", \"run_id\": \"AutoML_90066085-ec01-4d85-a02e-d9b9050f081f\", \"categories\": [0], \"series\": [{\"data\": [0.6248657524519593]}]}, {\"name\": \"log_loss\", \"run_id\": \"AutoML_90066085-ec01-4d85-a02e-d9b9050f081f\", \"categories\": [0], \"series\": [{\"data\": [0.42766183658953727]}]}], \"run_logs\": \"\\nRun is completed.\", \"graph\": {}, \"widget_settings\": {\"childWidgetDisplay\": \"popup\", \"send_telemetry\": false, \"log_level\": \"INFO\", \"sdk_version\": \"1.19.0\"}, \"loading\": false}"
     },
     "metadata": {},
     "output_type": "display_data"
    },
    {
     "name": "stdout",
     "output_type": "stream",
     "text": [
      "\n",
      "Current status: FeaturesGeneration. Generating features for the dataset.\n",
      "Current status: DatasetCrossValidationSplit. Generating individually featurized CV splits.\n",
      "Current status: ModelSelection. Beginning model selection.\n",
      "\n",
      "****************************************************************************************************\n",
      "DATA GUARDRAILS: \n",
      "\n",
      "TYPE:         Class balancing detection\n",
      "STATUS:       PASSED\n",
      "DESCRIPTION:  Your inputs were analyzed, and all classes are balanced in your training data.\n",
      "              Learn more about imbalanced data: https://aka.ms/AutomatedMLImbalancedData\n",
      "\n",
      "****************************************************************************************************\n",
      "\n",
      "TYPE:         Missing feature values imputation\n",
      "STATUS:       PASSED\n",
      "DESCRIPTION:  No feature missing values were detected in the training data.\n",
      "              Learn more about missing value imputation: https://aka.ms/AutomatedMLFeaturization\n",
      "\n",
      "****************************************************************************************************\n",
      "\n",
      "TYPE:         High cardinality feature detection\n",
      "STATUS:       PASSED\n",
      "DESCRIPTION:  Your inputs were analyzed, and no high cardinality features were detected.\n",
      "              Learn more about high cardinality feature handling: https://aka.ms/AutomatedMLFeaturization\n",
      "\n",
      "****************************************************************************************************\n",
      "\n",
      "****************************************************************************************************\n",
      "ITERATION: The iteration being evaluated.\n",
      "PIPELINE: A summary description of the pipeline being evaluated.\n",
      "DURATION: Time taken for the current iteration.\n",
      "METRIC: The result of computing score on the fitted pipeline.\n",
      "BEST: The best observed score thus far.\n",
      "****************************************************************************************************\n",
      "\n",
      " ITERATION   PIPELINE                                       DURATION      METRIC      BEST\n",
      "         0   MaxAbsScaler LightGBM                          0:00:44       0.8025    0.8025\n",
      "         2   MinMaxScaler RandomForest                      0:00:58       0.8428    0.8428\n",
      "         3   MinMaxScaler RandomForest                      0:00:46       0.8091    0.8428\n",
      "         6   MinMaxScaler LightGBM                          0:00:43       0.8025    0.8428\n",
      "         7   MinMaxScaler SVM                               0:00:42       0.7290    0.8428\n",
      "         8   MinMaxScaler SVM                               0:00:44       0.7057    0.8428\n",
      "         4   MinMaxScaler RandomForest                      0:03:14       0.8427    0.8428\n",
      "         5   RobustScaler KNN                               0:03:14       0.7356    0.8428\n",
      "         1   MaxAbsScaler XGBoostClassifier                 0:03:28       0.8193    0.8428\n",
      "         9   MaxAbsScaler GradientBoosting                  0:00:43       0.8227    0.8428\n",
      "        10   SparseNormalizer XGBoostClassifier             0:00:53       0.8161    0.8428\n",
      "        14   RobustScaler ExtremeRandomTrees                0:00:46       0.8461    0.8461\n",
      "        12   StandardScalerWrapper LightGBM                 0:01:36       0.7892    0.8461\n",
      "        11   SparseNormalizer XGBoostClassifier             0:01:50       0.8094    0.8461\n",
      "        13   RobustScaler RandomForest                      0:01:33       0.8259    0.8461\n",
      "        15   MaxAbsScaler LightGBM                          0:00:43       0.7993    0.8461\n",
      "        16   RobustScaler LightGBM                          0:00:47       0.7625    0.8461\n",
      "        17   MinMaxScaler LightGBM                          0:00:45       0.7993    0.8461\n",
      "        18   MaxAbsScaler LightGBM                          0:00:59       0.8260    0.8461\n",
      "        19   StandardScalerWrapper XGBoostClassifier        0:00:44       0.8361    0.8461\n",
      "        20   SparseNormalizer XGBoostClassifier             0:00:39       0.8193    0.8461\n",
      "        21   StandardScalerWrapper LightGBM                 0:01:03       0.7626    0.8461\n",
      "        22   SparseNormalizer XGBoostClassifier             0:00:49       0.8093    0.8461\n",
      "        23   RobustScaler RandomForest                      0:00:42       0.8193    0.8461\n",
      "        24   TruncatedSVDWrapper RandomForest               0:00:53       0.7658    0.8461\n",
      "        26   MaxAbsScaler LightGBM                          0:00:46       0.7124    0.8461\n",
      "        28   RobustScaler LightGBM                          0:00:37       0.8093    0.8461\n",
      "        25   PCA ExtremeRandomTrees                         0:01:08       0.6790    0.8461\n",
      "        27   SparseNormalizer XGBoostClassifier             0:00:47       0.8194    0.8461\n",
      "        29   RobustScaler LightGBM                          0:00:44       0.8461    0.8461\n",
      "        30   SparseNormalizer ExtremeRandomTrees            0:00:41       0.4121    0.8461\n",
      "        31   SparseNormalizer ExtremeRandomTrees            0:00:37       0.7558    0.8461\n",
      "        32   StandardScalerWrapper ExtremeRandomTrees       0:00:43       0.8092    0.8461\n",
      "        33   SparseNormalizer XGBoostClassifier             0:00:44       0.8061    0.8461\n",
      "        34   StandardScalerWrapper ExtremeRandomTrees       0:00:33       0.7992    0.8461\n",
      "        35                                                  0:00:22          nan    0.8461\n",
      "        36                                                  0:00:10          nan    0.8461\n",
      "        37                                                  0:00:16          nan    0.8461\n",
      "        39    StackEnsemble                                 0:01:08       0.8260    0.8461\n",
      "        38    VotingEnsemble                                0:01:10       0.8562    0.8562\n"
     ]
    },
    {
     "data": {
      "text/plain": [
       "{'runId': 'AutoML_90066085-ec01-4d85-a02e-d9b9050f081f',\n",
       " 'target': 'automl-project',\n",
       " 'status': 'Completed',\n",
       " 'startTimeUtc': '2021-01-15T10:52:34.734581Z',\n",
       " 'endTimeUtc': '2021-01-15T11:15:28.399693Z',\n",
       " 'properties': {'num_iterations': '1000',\n",
       "  'training_type': 'TrainFull',\n",
       "  'acquisition_function': 'EI',\n",
       "  'primary_metric': 'accuracy',\n",
       "  'train_split': '0',\n",
       "  'acquisition_parameter': '0',\n",
       "  'num_cross_validation': '3',\n",
       "  'target': 'automl-project',\n",
       "  'AMLSettingsJsonString': '{\"path\":null,\"name\":\"automl-udacity-capstone\",\"subscription_id\":\"3d1a56d2-7c81-4118-9790-f85d1acf0c77\",\"resource_group\":\"aml-quickstarts-134744\",\"workspace_name\":\"quick-starts-ws-134744\",\"region\":\"southcentralus\",\"compute_target\":\"automl-project\",\"spark_service\":null,\"azure_service\":\"remote\",\"many_models\":false,\"pipeline_fetch_max_batch_size\":1,\"iterations\":1000,\"primary_metric\":\"accuracy\",\"task_type\":\"classification\",\"data_script\":null,\"validation_size\":0.0,\"n_cross_validations\":3,\"y_min\":null,\"y_max\":null,\"num_classes\":null,\"featurization\":\"auto\",\"_ignore_package_version_incompatibilities\":false,\"is_timeseries\":false,\"max_cores_per_iteration\":1,\"max_concurrent_iterations\":5,\"iteration_timeout_minutes\":null,\"mem_in_mb\":null,\"enforce_time_on_windows\":false,\"experiment_timeout_minutes\":30,\"experiment_exit_score\":null,\"whitelist_models\":null,\"blacklist_algos\":[\"TensorFlowLinearClassifier\",\"TensorFlowDNN\"],\"supported_models\":[\"SVM\",\"TensorFlowLinearClassifier\",\"SGD\",\"XGBoostClassifier\",\"LightGBM\",\"AveragedPerceptronClassifier\",\"TensorFlowDNN\",\"LinearSVM\",\"MultinomialNaiveBayes\",\"DecisionTree\",\"GradientBoosting\",\"LogisticRegression\",\"KNN\",\"BernoulliNaiveBayes\",\"RandomForest\",\"ExtremeRandomTrees\"],\"auto_blacklist\":true,\"blacklist_samples_reached\":false,\"exclude_nan_labels\":true,\"verbosity\":20,\"_debug_log\":\"azureml_automl.log\",\"show_warnings\":false,\"model_explainability\":true,\"service_url\":null,\"sdk_url\":null,\"sdk_packages\":null,\"enable_onnx_compatible_models\":false,\"enable_split_onnx_featurizer_estimator_models\":false,\"vm_type\":\"STANDARD_D2_V2\",\"telemetry_verbosity\":20,\"send_telemetry\":true,\"enable_dnn\":false,\"scenario\":\"SDK-1.13.0\",\"environment_label\":null,\"force_text_dnn\":false,\"enable_feature_sweeping\":true,\"enable_early_stopping\":true,\"early_stopping_n_iters\":10,\"metrics\":null,\"enable_ensembling\":true,\"enable_stack_ensembling\":true,\"ensemble_iterations\":15,\"enable_tf\":false,\"enable_subsampling\":null,\"subsample_seed\":null,\"enable_nimbusml\":false,\"enable_streaming\":false,\"force_streaming\":false,\"track_child_runs\":true,\"allowed_private_models\":[],\"label_column_name\":\"DEATH_EVENT\",\"weight_column_name\":null,\"cv_split_column_names\":null,\"enable_local_managed\":false,\"_local_managed_run_id\":null,\"cost_mode\":1,\"lag_length\":0,\"metric_operation\":\"maximize\",\"preprocess\":true}',\n",
       "  'DataPrepJsonString': '{\\\\\"training_data\\\\\": \\\\\"{\\\\\\\\\\\\\"blocks\\\\\\\\\\\\\": [{\\\\\\\\\\\\\"id\\\\\\\\\\\\\": \\\\\\\\\\\\\"e4229f18-ccb9-4dac-bbda-f156f6c63053\\\\\\\\\\\\\", \\\\\\\\\\\\\"type\\\\\\\\\\\\\": \\\\\\\\\\\\\"Microsoft.DPrep.GetDatastoreFilesBlock\\\\\\\\\\\\\", \\\\\\\\\\\\\"arguments\\\\\\\\\\\\\": {\\\\\\\\\\\\\"datastores\\\\\\\\\\\\\": [{\\\\\\\\\\\\\"datastoreName\\\\\\\\\\\\\": \\\\\\\\\\\\\"workspaceblobstore\\\\\\\\\\\\\", \\\\\\\\\\\\\"path\\\\\\\\\\\\\": \\\\\\\\\\\\\"UI/01-15-2021_103919_UTC/heart_failure_clinical_records_dataset.csv\\\\\\\\\\\\\", \\\\\\\\\\\\\"resourceGroup\\\\\\\\\\\\\": \\\\\\\\\\\\\"aml-quickstarts-134744\\\\\\\\\\\\\", \\\\\\\\\\\\\"subscription\\\\\\\\\\\\\": \\\\\\\\\\\\\"3d1a56d2-7c81-4118-9790-f85d1acf0c77\\\\\\\\\\\\\", \\\\\\\\\\\\\"workspaceName\\\\\\\\\\\\\": \\\\\\\\\\\\\"quick-starts-ws-134744\\\\\\\\\\\\\"}]}, \\\\\\\\\\\\\"localData\\\\\\\\\\\\\": {}, \\\\\\\\\\\\\"isEnabled\\\\\\\\\\\\\": true, \\\\\\\\\\\\\"name\\\\\\\\\\\\\": null, \\\\\\\\\\\\\"annotation\\\\\\\\\\\\\": null}, {\\\\\\\\\\\\\"id\\\\\\\\\\\\\": \\\\\\\\\\\\\"70a73b29-76ac-4c37-a355-713f41e72587\\\\\\\\\\\\\", \\\\\\\\\\\\\"type\\\\\\\\\\\\\": \\\\\\\\\\\\\"Microsoft.DPrep.ParseDelimitedBlock\\\\\\\\\\\\\", \\\\\\\\\\\\\"arguments\\\\\\\\\\\\\": {\\\\\\\\\\\\\"columnHeadersMode\\\\\\\\\\\\\": 3, \\\\\\\\\\\\\"fileEncoding\\\\\\\\\\\\\": 0, \\\\\\\\\\\\\"handleQuotedLineBreaks\\\\\\\\\\\\\": false, \\\\\\\\\\\\\"preview\\\\\\\\\\\\\": false, \\\\\\\\\\\\\"separator\\\\\\\\\\\\\": \\\\\\\\\\\\\",\\\\\\\\\\\\\", \\\\\\\\\\\\\"skipRows\\\\\\\\\\\\\": 0, \\\\\\\\\\\\\"skipRowsMode\\\\\\\\\\\\\": 0}, \\\\\\\\\\\\\"localData\\\\\\\\\\\\\": {}, \\\\\\\\\\\\\"isEnabled\\\\\\\\\\\\\": true, \\\\\\\\\\\\\"name\\\\\\\\\\\\\": null, \\\\\\\\\\\\\"annotation\\\\\\\\\\\\\": null}, {\\\\\\\\\\\\\"id\\\\\\\\\\\\\": \\\\\\\\\\\\\"4a5815f6-1092-43f1-8e1b-5b98df04aece\\\\\\\\\\\\\", \\\\\\\\\\\\\"type\\\\\\\\\\\\\": \\\\\\\\\\\\\"Microsoft.DPrep.DropColumnsBlock\\\\\\\\\\\\\", \\\\\\\\\\\\\"arguments\\\\\\\\\\\\\": {\\\\\\\\\\\\\"columns\\\\\\\\\\\\\": {\\\\\\\\\\\\\"type\\\\\\\\\\\\\": 0, \\\\\\\\\\\\\"details\\\\\\\\\\\\\": {\\\\\\\\\\\\\"selectedColumns\\\\\\\\\\\\\": [\\\\\\\\\\\\\"Path\\\\\\\\\\\\\"]}}}, \\\\\\\\\\\\\"localData\\\\\\\\\\\\\": {}, \\\\\\\\\\\\\"isEnabled\\\\\\\\\\\\\": true, \\\\\\\\\\\\\"name\\\\\\\\\\\\\": null, \\\\\\\\\\\\\"annotation\\\\\\\\\\\\\": null}, {\\\\\\\\\\\\\"id\\\\\\\\\\\\\": \\\\\\\\\\\\\"915561c8-e29c-4952-89c8-669543d9e854\\\\\\\\\\\\\", \\\\\\\\\\\\\"type\\\\\\\\\\\\\": \\\\\\\\\\\\\"Microsoft.DPrep.SetColumnTypesBlock\\\\\\\\\\\\\", \\\\\\\\\\\\\"arguments\\\\\\\\\\\\\": {\\\\\\\\\\\\\"columnConversion\\\\\\\\\\\\\": [{\\\\\\\\\\\\\"column\\\\\\\\\\\\\": {\\\\\\\\\\\\\"type\\\\\\\\\\\\\": 2, \\\\\\\\\\\\\"details\\\\\\\\\\\\\": {\\\\\\\\\\\\\"selectedColumn\\\\\\\\\\\\\": \\\\\\\\\\\\\"Path\\\\\\\\\\\\\"}}, \\\\\\\\\\\\\"typeProperty\\\\\\\\\\\\\": 0}, {\\\\\\\\\\\\\"column\\\\\\\\\\\\\": {\\\\\\\\\\\\\"type\\\\\\\\\\\\\": 2, \\\\\\\\\\\\\"details\\\\\\\\\\\\\": {\\\\\\\\\\\\\"selectedColumn\\\\\\\\\\\\\": \\\\\\\\\\\\\"age\\\\\\\\\\\\\"}}, \\\\\\\\\\\\\"typeProperty\\\\\\\\\\\\\": 3}, {\\\\\\\\\\\\\"column\\\\\\\\\\\\\": {\\\\\\\\\\\\\"type\\\\\\\\\\\\\": 2, \\\\\\\\\\\\\"details\\\\\\\\\\\\\": {\\\\\\\\\\\\\"selectedColumn\\\\\\\\\\\\\": \\\\\\\\\\\\\"anaemia\\\\\\\\\\\\\"}}, \\\\\\\\\\\\\"typeProperty\\\\\\\\\\\\\": 2}, {\\\\\\\\\\\\\"column\\\\\\\\\\\\\": {\\\\\\\\\\\\\"type\\\\\\\\\\\\\": 2, \\\\\\\\\\\\\"details\\\\\\\\\\\\\": {\\\\\\\\\\\\\"selectedColumn\\\\\\\\\\\\\": \\\\\\\\\\\\\"creatinine_phosphokinase\\\\\\\\\\\\\"}}, \\\\\\\\\\\\\"typeProperty\\\\\\\\\\\\\": 2}, {\\\\\\\\\\\\\"column\\\\\\\\\\\\\": {\\\\\\\\\\\\\"type\\\\\\\\\\\\\": 2, \\\\\\\\\\\\\"details\\\\\\\\\\\\\": {\\\\\\\\\\\\\"selectedColumn\\\\\\\\\\\\\": \\\\\\\\\\\\\"diabetes\\\\\\\\\\\\\"}}, \\\\\\\\\\\\\"typeProperty\\\\\\\\\\\\\": 2}, {\\\\\\\\\\\\\"column\\\\\\\\\\\\\": {\\\\\\\\\\\\\"type\\\\\\\\\\\\\": 2, \\\\\\\\\\\\\"details\\\\\\\\\\\\\": {\\\\\\\\\\\\\"selectedColumn\\\\\\\\\\\\\": \\\\\\\\\\\\\"ejection_fraction\\\\\\\\\\\\\"}}, \\\\\\\\\\\\\"typeProperty\\\\\\\\\\\\\": 2}, {\\\\\\\\\\\\\"column\\\\\\\\\\\\\": {\\\\\\\\\\\\\"type\\\\\\\\\\\\\": 2, \\\\\\\\\\\\\"details\\\\\\\\\\\\\": {\\\\\\\\\\\\\"selectedColumn\\\\\\\\\\\\\": \\\\\\\\\\\\\"high_blood_pressure\\\\\\\\\\\\\"}}, \\\\\\\\\\\\\"typeProperty\\\\\\\\\\\\\": 2}, {\\\\\\\\\\\\\"column\\\\\\\\\\\\\": {\\\\\\\\\\\\\"type\\\\\\\\\\\\\": 2, \\\\\\\\\\\\\"details\\\\\\\\\\\\\": {\\\\\\\\\\\\\"selectedColumn\\\\\\\\\\\\\": \\\\\\\\\\\\\"platelets\\\\\\\\\\\\\"}}, \\\\\\\\\\\\\"typeProperty\\\\\\\\\\\\\": 3}, {\\\\\\\\\\\\\"column\\\\\\\\\\\\\": {\\\\\\\\\\\\\"type\\\\\\\\\\\\\": 2, \\\\\\\\\\\\\"details\\\\\\\\\\\\\": {\\\\\\\\\\\\\"selectedColumn\\\\\\\\\\\\\": \\\\\\\\\\\\\"serum_creatinine\\\\\\\\\\\\\"}}, \\\\\\\\\\\\\"typeProperty\\\\\\\\\\\\\": 3}, {\\\\\\\\\\\\\"column\\\\\\\\\\\\\": {\\\\\\\\\\\\\"type\\\\\\\\\\\\\": 2, \\\\\\\\\\\\\"details\\\\\\\\\\\\\": {\\\\\\\\\\\\\"selectedColumn\\\\\\\\\\\\\": \\\\\\\\\\\\\"serum_sodium\\\\\\\\\\\\\"}}, \\\\\\\\\\\\\"typeProperty\\\\\\\\\\\\\": 2}, {\\\\\\\\\\\\\"column\\\\\\\\\\\\\": {\\\\\\\\\\\\\"type\\\\\\\\\\\\\": 2, \\\\\\\\\\\\\"details\\\\\\\\\\\\\": {\\\\\\\\\\\\\"selectedColumn\\\\\\\\\\\\\": \\\\\\\\\\\\\"sex\\\\\\\\\\\\\"}}, \\\\\\\\\\\\\"typeProperty\\\\\\\\\\\\\": 2}, {\\\\\\\\\\\\\"column\\\\\\\\\\\\\": {\\\\\\\\\\\\\"type\\\\\\\\\\\\\": 2, \\\\\\\\\\\\\"details\\\\\\\\\\\\\": {\\\\\\\\\\\\\"selectedColumn\\\\\\\\\\\\\": \\\\\\\\\\\\\"smoking\\\\\\\\\\\\\"}}, \\\\\\\\\\\\\"typeProperty\\\\\\\\\\\\\": 2}, {\\\\\\\\\\\\\"column\\\\\\\\\\\\\": {\\\\\\\\\\\\\"type\\\\\\\\\\\\\": 2, \\\\\\\\\\\\\"details\\\\\\\\\\\\\": {\\\\\\\\\\\\\"selectedColumn\\\\\\\\\\\\\": \\\\\\\\\\\\\"time\\\\\\\\\\\\\"}}, \\\\\\\\\\\\\"typeProperty\\\\\\\\\\\\\": 2}, {\\\\\\\\\\\\\"column\\\\\\\\\\\\\": {\\\\\\\\\\\\\"type\\\\\\\\\\\\\": 2, \\\\\\\\\\\\\"details\\\\\\\\\\\\\": {\\\\\\\\\\\\\"selectedColumn\\\\\\\\\\\\\": \\\\\\\\\\\\\"DEATH_EVENT\\\\\\\\\\\\\"}}, \\\\\\\\\\\\\"typeProperty\\\\\\\\\\\\\": 2}]}, \\\\\\\\\\\\\"localData\\\\\\\\\\\\\": {}, \\\\\\\\\\\\\"isEnabled\\\\\\\\\\\\\": true, \\\\\\\\\\\\\"name\\\\\\\\\\\\\": null, \\\\\\\\\\\\\"annotation\\\\\\\\\\\\\": null}], \\\\\\\\\\\\\"inspectors\\\\\\\\\\\\\": [], \\\\\\\\\\\\\"meta\\\\\\\\\\\\\": {\\\\\\\\\\\\\"savedDatasetId\\\\\\\\\\\\\": \\\\\\\\\\\\\"d8b6219f-9b4e-4b49-8fd2-6ab512db20b5\\\\\\\\\\\\\", \\\\\\\\\\\\\"datasetType\\\\\\\\\\\\\": \\\\\\\\\\\\\"tabular\\\\\\\\\\\\\", \\\\\\\\\\\\\"subscriptionId\\\\\\\\\\\\\": \\\\\\\\\\\\\"3d1a56d2-7c81-4118-9790-f85d1acf0c77\\\\\\\\\\\\\", \\\\\\\\\\\\\"workspaceId\\\\\\\\\\\\\": \\\\\\\\\\\\\"1ea6c405-7f1a-4a55-b2ce-464507e56162\\\\\\\\\\\\\", \\\\\\\\\\\\\"workspaceLocation\\\\\\\\\\\\\": \\\\\\\\\\\\\"southcentralus\\\\\\\\\\\\\"}}\\\\\", \\\\\"activities\\\\\": 0}',\n",
       "  'EnableSubsampling': None,\n",
       "  'runTemplate': 'AutoML',\n",
       "  'azureml.runsource': 'automl',\n",
       "  'display_task_type': 'classification',\n",
       "  'dependencies_versions': '{\"azureml-widgets\": \"1.19.0\", \"azureml-train\": \"1.19.0\", \"azureml-train-restclients-hyperdrive\": \"1.19.0\", \"azureml-train-core\": \"1.19.0\", \"azureml-train-automl\": \"1.19.0\", \"azureml-train-automl-runtime\": \"1.19.0\", \"azureml-train-automl-client\": \"1.19.0\", \"azureml-tensorboard\": \"1.19.0\", \"azureml-telemetry\": \"1.19.0\", \"azureml-sdk\": \"1.19.0\", \"azureml-samples\": \"0+unknown\", \"azureml-pipeline\": \"1.19.0\", \"azureml-pipeline-steps\": \"1.19.0\", \"azureml-pipeline-core\": \"1.19.0\", \"azureml-opendatasets\": \"1.19.0\", \"azureml-model-management-sdk\": \"1.0.1b6.post1\", \"azureml-mlflow\": \"1.19.0\", \"azureml-interpret\": \"1.19.0\", \"azureml-explain-model\": \"1.19.0\", \"azureml-defaults\": \"1.19.0\", \"azureml-dataset-runtime\": \"1.19.0.post1\", \"azureml-dataprep\": \"2.6.1\", \"azureml-dataprep-rslex\": \"1.4.0\", \"azureml-dataprep-native\": \"26.0.0\", \"azureml-datadrift\": \"1.19.0\", \"azureml-core\": \"1.19.0\", \"azureml-contrib-services\": \"1.19.0\", \"azureml-contrib-server\": \"1.19.0\", \"azureml-contrib-reinforcementlearning\": \"1.19.0\", \"azureml-contrib-pipeline-steps\": \"1.19.0\", \"azureml-contrib-notebook\": \"1.19.0\", \"azureml-contrib-interpret\": \"1.19.0\", \"azureml-contrib-gbdt\": \"1.19.0\", \"azureml-contrib-fairness\": \"1.19.0\", \"azureml-contrib-dataset\": \"1.19.0\", \"azureml-cli-common\": \"1.19.0\", \"azureml-automl-runtime\": \"1.19.0\", \"azureml-automl-core\": \"1.19.0\", \"azureml-accel-models\": \"1.19.0\"}',\n",
       "  '_aml_system_scenario_identification': 'Remote.Parent',\n",
       "  'ClientType': 'SDK',\n",
       "  'environment_cpu_name': 'AzureML-AutoML',\n",
       "  'environment_cpu_label': 'prod',\n",
       "  'environment_gpu_name': 'AzureML-AutoML-GPU',\n",
       "  'environment_gpu_label': 'prod',\n",
       "  'root_attribution': 'automl',\n",
       "  'attribution': 'AutoML',\n",
       "  'Orchestrator': 'AutoML',\n",
       "  'CancelUri': 'https://southcentralus.experiments.azureml.net/jasmine/v1.0/subscriptions/3d1a56d2-7c81-4118-9790-f85d1acf0c77/resourceGroups/aml-quickstarts-134744/providers/Microsoft.MachineLearningServices/workspaces/quick-starts-ws-134744/experimentids/dde168bd-e2ff-4b44-8d79-61e91bfedfce/cancel/AutoML_90066085-ec01-4d85-a02e-d9b9050f081f',\n",
       "  'ClientSdkVersion': '1.19.0',\n",
       "  'snapshotId': '00000000-0000-0000-0000-000000000000',\n",
       "  'SetupRunId': 'AutoML_90066085-ec01-4d85-a02e-d9b9050f081f_setup',\n",
       "  'SetupRunContainerId': 'dcid.AutoML_90066085-ec01-4d85-a02e-d9b9050f081f_setup',\n",
       "  'FeaturizationRunJsonPath': 'featurizer_container.json',\n",
       "  'FeaturizationRunId': 'AutoML_90066085-ec01-4d85-a02e-d9b9050f081f_featurize',\n",
       "  'ProblemInfoJsonString': '{\"dataset_num_categorical\": 0, \"is_sparse\": false, \"subsampling\": false, \"dataset_classes\": 2, \"dataset_features\": 12, \"dataset_samples\": 299, \"single_frequency_class_detected\": false}',\n",
       "  'ModelExplainRunId': 'AutoML_90066085-ec01-4d85-a02e-d9b9050f081f_ModelExplain'},\n",
       " 'inputDatasets': [{'dataset': {'id': 'd8b6219f-9b4e-4b49-8fd2-6ab512db20b5'}, 'consumptionDetails': {'type': 'RunInput', 'inputName': 'training_data', 'mechanism': 'Direct'}}],\n",
       " 'outputDatasets': [],\n",
       " 'logFiles': {}}"
      ]
     },
     "execution_count": 7,
     "metadata": {},
     "output_type": "execute_result"
    },
    {
     "data": {
      "application/vnd.jupyter.widget-view+json": {
       "model_id": "",
       "version_major": 2,
       "version_minor": 0
      },
      "text/plain": [
       "_UserRunWidget(widget_settings={'childWidgetDisplay': 'popup', 'send_telemetry': False, 'log_level': 'INFO', '…"
      ]
     },
     "metadata": {},
     "output_type": "display_data"
    },
    {
     "data": {
      "application/aml.mini.widget.v1": "{\"loading\": true}"
     },
     "metadata": {},
     "output_type": "display_data"
    },
    {
     "data": {
      "application/vnd.jupyter.widget-view+json": {
       "model_id": "86d7c30d2b014c0694f8d1541df56faa",
       "version_major": 2,
       "version_minor": 0
      },
      "text/plain": [
       "_UserRunWidget(widget_settings={'childWidgetDisplay': 'popup', 'send_telemetry': False, 'log_level': 'INFO', '…"
      ]
     },
     "metadata": {},
     "output_type": "display_data"
    },
    {
     "data": {
      "application/aml.mini.widget.v1": "{\"loading\": true}"
     },
     "metadata": {},
     "output_type": "display_data"
    }
   ],
   "source": [
    "from azureml.widgets import RunDetails\n",
    "RunDetails(run).show()\n",
    "# wait for completion\n",
    "run.wait_for_completion(show_output=True)"
   ]
  },
  {
   "cell_type": "markdown",
   "metadata": {},
   "source": [
    "## Best Model\n",
    "\n",
    "TODO: In the cell below, get the best model from the automl experiments and display all the properties of the model.\n",
    "\n"
   ]
  },
  {
   "cell_type": "code",
   "execution_count": 8,
   "metadata": {
    "gather": {
     "logged": 1598431425670
    },
    "jupyter": {
     "outputs_hidden": false,
     "source_hidden": false
    },
    "nteract": {
     "transient": {
      "deleting": false
     }
    }
   },
   "outputs": [
    {
     "name": "stdout",
     "output_type": "stream",
     "text": [
      "Pipeline(memory=None,\n",
      "         steps=[('datatransformer',\n",
      "                 DataTransformer(enable_dnn=None, enable_feature_sweeping=None,\n",
      "                                 feature_sweeping_config=None,\n",
      "                                 feature_sweeping_timeout=None,\n",
      "                                 featurization_config=None, force_text_dnn=None,\n",
      "                                 is_cross_validation=None,\n",
      "                                 is_onnx_compatible=None, logger=None,\n",
      "                                 observer=None, task=None, working_dir=None)),\n",
      "                ('prefittedsoftvotingclassifier',...\n",
      "                                                                                               max_leaves=0,\n",
      "                                                                                               min_child_weight=1,\n",
      "                                                                                               missing=nan,\n",
      "                                                                                               n_estimators=50,\n",
      "                                                                                               n_jobs=1,\n",
      "                                                                                               nthread=None,\n",
      "                                                                                               objective='reg:logistic',\n",
      "                                                                                               random_state=0,\n",
      "                                                                                               reg_alpha=0,\n",
      "                                                                                               reg_lambda=2.1875,\n",
      "                                                                                               scale_pos_weight=1,\n",
      "                                                                                               seed=None,\n",
      "                                                                                               silent=None,\n",
      "                                                                                               subsample=0.8,\n",
      "                                                                                               tree_method='auto',\n",
      "                                                                                               verbose=-10,\n",
      "                                                                                               verbosity=0))],\n",
      "                                                                     verbose=False))],\n",
      "                                               flatten_transform=None,\n",
      "                                               weights=[0.125, 0.25, 0.125,\n",
      "                                                        0.125, 0.125, 0.125,\n",
      "                                                        0.125]))],\n",
      "         verbose=False)\n",
      "Best Run Id:  AutoML_90066085-ec01-4d85-a02e-d9b9050f081f_38\n",
      "\n",
      " Accuracy: 0.8561952861952862\n"
     ]
    }
   ],
   "source": [
    "aml_best_run, model = run.get_output()\n",
    "aml_best_run_metrics = aml_best_run.get_metrics()\n",
    "\n",
    "print(model)\n",
    "print('Best Run Id: ', aml_best_run.id)\n",
    "print('\\n Accuracy:', aml_best_run_metrics['accuracy'])"
   ]
  },
  {
   "cell_type": "code",
   "execution_count": 9,
   "metadata": {
    "gather": {
     "logged": 1598431426111
    },
    "jupyter": {
     "outputs_hidden": false,
     "source_hidden": false
    },
    "nteract": {
     "transient": {
      "deleting": false
     }
    }
   },
   "outputs": [
    {
     "name": "stdout",
     "output_type": "stream",
     "text": [
      "{'_aml_system_azureml.automlComponent': 'AutoML', '_aml_system_ComputeTargetStatus': '{\"AllocationState\":\"steady\",\"PreparingNodeCount\":0,\"RunningNodeCount\":1,\"CurrentNodeCount\":4}', 'ensembled_iterations': '[29, 14, 2, 4, 19, 25, 20]', 'ensembled_algorithms': \"['LightGBM', 'ExtremeRandomTrees', 'RandomForest', 'RandomForest', 'XGBoostClassifier', 'ExtremeRandomTrees', 'XGBoostClassifier']\", 'ensemble_weights': '[0.125, 0.25, 0.125, 0.125, 0.125, 0.125, 0.125]', 'best_individual_pipeline_score': '0.8460942760942761', 'best_individual_iteration': '29', '_aml_system_automl_is_child_run_end_telemetry_event_logged': 'True'}\n"
     ]
    }
   ],
   "source": [
    "import joblib\n",
    "joblib.dump(model,'outputs/automlmodel.pkl')\n",
    "print(aml_best_run.get_tags())\n"
   ]
  },
  {
   "cell_type": "markdown",
   "metadata": {},
   "source": [
    "## Model Deployment\n",
    "\n",
    "Remember you have to deploy only one of the two models you trained.. Perform the steps in the rest of this notebook only if you wish to deploy this model.\n",
    "\n",
    "TODO: In the cell below, register the model, create an inference config and deploy the model as a web service."
   ]
  },
  {
   "cell_type": "code",
   "execution_count": 10,
   "metadata": {},
   "outputs": [
    {
     "name": "stdout",
     "output_type": "stream",
     "text": [
      "Registering model automl\n"
     ]
    }
   ],
   "source": [
    "from azureml.core.model import Model\n",
    "\n",
    "model = Model.register(workspace = ws,\n",
    "                        model_path =\"outputs/automlmodel.pkl\",\n",
    "                        model_name = \"automl\")\n"
   ]
  },
  {
   "cell_type": "code",
   "execution_count": 11,
   "metadata": {
    "gather": {
     "logged": 1598431435189
    },
    "jupyter": {
     "outputs_hidden": false,
     "source_hidden": false
    },
    "nteract": {
     "transient": {
      "deleting": false
     }
    }
   },
   "outputs": [
    {
     "name": "stdout",
     "output_type": "stream",
     "text": [
      "Writing amlscore.py\n"
     ]
    }
   ],
   "source": [
    "%%writefile amlscore.py\n",
    "import json\n",
    "import numpy as np\n",
    "import os\n",
    "import pickle\n",
    "import joblib\n",
    "import pandas as pd\n",
    "from azureml.core.model import Model\n",
    "\n",
    "def init():\n",
    "    global model\n",
    "    model_path = Model.get_model_path(\"automl\")\n",
    "    model = joblib.load(model_path)\n",
    "\n",
    "def run(raw_data):\n",
    "    try:\n",
    "        data = json.loads(raw_data)['data']\n",
    "        data = pd.DataFrame.from_dict(data)\n",
    "        # make prediction\n",
    "        result = model.predict(data)\n",
    "        return result.tolist()\n",
    "    except Exception as ex:\n",
    "        error = str(ex)\n",
    "        return error"
   ]
  },
  {
   "cell_type": "code",
   "execution_count": 12,
   "metadata": {},
   "outputs": [],
   "source": [
    "from azureml.core.environment import Environment\n",
    "from azureml.core.conda_dependencies import CondaDependencies\n",
    "env = Environment.get(workspace=ws, name=\"AzureML-AutoML\")"
   ]
  },
  {
   "cell_type": "code",
   "execution_count": 13,
   "metadata": {},
   "outputs": [
    {
     "name": "stdout",
     "output_type": "stream",
     "text": [
      "Tips: You can try get_logs(): https://aka.ms/debugimage#dockerlog or local deployment: https://aka.ms/debugimage#debug-locally to debug if deployment takes longer than 10 minutes.\n",
      "Running..............................................\n",
      "Succeeded\n",
      "ACI service creation operation finished, operation \"Succeeded\"\n",
      "Healthy\n"
     ]
    }
   ],
   "source": [
    "from azureml.core.webservice import Webservice\n",
    "from azureml.core.model import InferenceConfig\n",
    "from azureml.core.model import Model\n",
    "\n",
    "aciconfig2 = AciWebservice.deploy_configuration(cpu_cores=1, \n",
    "                                               memory_gb=1, \n",
    "                                               enable_app_insights=True, \n",
    "                                               auth_enabled=True)\n",
    "\n",
    "\n",
    "\n",
    "ws = Workspace.from_config()\n",
    "model = Model(ws, 'automl')\n",
    "\n",
    "inference_config = InferenceConfig(entry_script=\"amlscore.py\", environment=env)\n",
    "\n",
    "service_name = 'aml-service'\n",
    "service = Model.deploy(workspace=ws, \n",
    "                       name=service_name, \n",
    "                       models=[model], \n",
    "                       inference_config=inference_config, \n",
    "                       deployment_config= aciconfig2)\n",
    "\n",
    "service.wait_for_deployment(show_output=True)\n",
    "\n",
    "\n",
    "\n",
    "print(service.state)\n"
   ]
  },
  {
   "cell_type": "code",
   "execution_count": 14,
   "metadata": {},
   "outputs": [
    {
     "name": "stdout",
     "output_type": "stream",
     "text": [
      "2021-01-15T11:26:54,433852921+00:00 - gunicorn/run \n",
      "2021-01-15T11:26:54,437092234+00:00 - nginx/run \n",
      "2021-01-15T11:26:54,437155434+00:00 - rsyslog/run \n",
      "2021-01-15T11:26:54,437686336+00:00 - iot-server/run \n",
      "rsyslogd: /azureml-envs/azureml_265db83b0c6014ce472c5de2f0b97e04/lib/libuuid.so.1: no version information available (required by rsyslogd)\n",
      "/usr/sbin/nginx: /azureml-envs/azureml_265db83b0c6014ce472c5de2f0b97e04/lib/libcrypto.so.1.0.0: no version information available (required by /usr/sbin/nginx)\n",
      "/usr/sbin/nginx: /azureml-envs/azureml_265db83b0c6014ce472c5de2f0b97e04/lib/libcrypto.so.1.0.0: no version information available (required by /usr/sbin/nginx)\n",
      "/usr/sbin/nginx: /azureml-envs/azureml_265db83b0c6014ce472c5de2f0b97e04/lib/libssl.so.1.0.0: no version information available (required by /usr/sbin/nginx)\n",
      "/usr/sbin/nginx: /azureml-envs/azureml_265db83b0c6014ce472c5de2f0b97e04/lib/libssl.so.1.0.0: no version information available (required by /usr/sbin/nginx)\n",
      "/usr/sbin/nginx: /azureml-envs/azureml_265db83b0c6014ce472c5de2f0b97e04/lib/libssl.so.1.0.0: no version information available (required by /usr/sbin/nginx)\n",
      "EdgeHubConnectionString and IOTEDGE_IOTHUBHOSTNAME are not set. Exiting...\n",
      "2021-01-15T11:26:54,600806258+00:00 - iot-server/finish 1 0\n",
      "2021-01-15T11:26:54,602273864+00:00 - Exit code 1 is normal. Not restarting iot-server.\n",
      "Starting gunicorn 19.9.0\n",
      "Listening at: http://127.0.0.1:31311 (14)\n",
      "Using worker: sync\n",
      "worker timeout is set to 300\n",
      "Booting worker with pid: 42\n",
      "SPARK_HOME not set. Skipping PySpark Initialization.\n",
      "Generating new fontManager, this may take some time...\n",
      "Initializing logger\n",
      "2021-01-15 11:26:58,140 | root | INFO | Starting up app insights client\n",
      "2021-01-15 11:26:58,141 | root | INFO | Starting up request id generator\n",
      "2021-01-15 11:26:58,141 | root | INFO | Starting up app insight hooks\n",
      "2021-01-15 11:26:58,141 | root | INFO | Invoking user's init function\n",
      "2021-01-15 11:26:59,896 | root | INFO | Users's init has completed successfully\n",
      "2021-01-15 11:26:59,899 | root | INFO | Skipping middleware: dbg_model_info as it's not enabled.\n",
      "2021-01-15 11:26:59,899 | root | INFO | Skipping middleware: dbg_resource_usage as it's not enabled.\n",
      "2021-01-15 11:26:59,900 | root | INFO | Scoring timeout is found from os.environ: 60000 ms\n",
      "2021-01-15 11:27:07,235 | root | INFO | Swagger file not present\n",
      "2021-01-15 11:27:07,235 | root | INFO | 404\n",
      "127.0.0.1 - - [15/Jan/2021:11:27:07 +0000] \"GET /swagger.json HTTP/1.0\" 404 19 \"-\" \"Go-http-client/1.1\"\n",
      "2021-01-15 11:27:09,171 | root | INFO | Swagger file not present\n",
      "2021-01-15 11:27:09,171 | root | INFO | 404\n",
      "127.0.0.1 - - [15/Jan/2021:11:27:09 +0000] \"GET /swagger.json HTTP/1.0\" 404 19 \"-\" \"Go-http-client/1.1\"\n",
      "\n"
     ]
    }
   ],
   "source": [
    "print(service.get_logs())"
   ]
  },
  {
   "cell_type": "code",
   "execution_count": 15,
   "metadata": {},
   "outputs": [
    {
     "name": "stdout",
     "output_type": "stream",
     "text": [
      "scoring URI: http://ab113c9e-510a-4556-bb40-4c9317d9e711.southcentralus.azurecontainer.io/score\n",
      "Swagger URI: http://ab113c9e-510a-4556-bb40-4c9317d9e711.southcentralus.azurecontainer.io/swagger.json\n",
      "Authetication Key: YvSHq1nEfQa9Kgz4LQKHAhez5CKy9r77\n"
     ]
    }
   ],
   "source": [
    "print(\"scoring URI: \" + service.scoring_uri)\n",
    "print(\"Swagger URI: \" + service.swagger_uri)\n",
    "print(\"Authetication Key: \" + service.get_keys()[0])"
   ]
  },
  {
   "cell_type": "code",
   "execution_count": 16,
   "metadata": {},
   "outputs": [
    {
     "name": "stdout",
     "output_type": "stream",
     "text": [
      "YvSHq1nEfQa9Kgz4LQKHAhez5CKy9r77 AgW32x4pfddUMecEwBaTPGgKeLvWTlxO\n"
     ]
    }
   ],
   "source": [
    "primary, secondary = service.get_keys()\n",
    "print(primary,secondary)"
   ]
  },
  {
   "cell_type": "markdown",
   "metadata": {
    "collapsed": true,
    "gather": {
     "logged": 1598431657736
    },
    "jupyter": {
     "outputs_hidden": false,
     "source_hidden": false
    },
    "nteract": {
     "transient": {
      "deleting": false
     }
    }
   },
   "source": [
    "TODO: In the cell below, send a request to the web service you deployed to test it."
   ]
  },
  {
   "cell_type": "code",
   "execution_count": 19,
   "metadata": {},
   "outputs": [
    {
     "name": "stdout",
     "output_type": "stream",
     "text": [
      "[1, 1]\n"
     ]
    }
   ],
   "source": [
    "import requests\n",
    "import json\n",
    "scoringuri = service.scoring_uri\n",
    "key=primary\n",
    "data= { \"data\":\n",
    "       [\n",
    "           {\n",
    "               'age': 50,\n",
    "               'anaemia': 255,\n",
    "               'creatinine_phosphokinase': 0,\n",
    "               'diabetes': 0,\n",
    "               'ejection_fraction': 83,\n",
    "               'high_blood_pressure': 1,\n",
    "               'platelets': 263000,\n",
    "               'serum_creatinine': 40,\n",
    "               'serum_sodium':140,\n",
    "               'sex':1,\n",
    "               'smoking':1,\n",
    "               'time':4\n",
    "               \n",
    "               },\n",
    "            {\n",
    "               'age': 55,\n",
    "               'anaemia': 245,\n",
    "               'creatinine_phosphokinase': 1,\n",
    "               'diabetes': 1,\n",
    "               'ejection_fraction': 38,\n",
    "               'high_blood_pressure': 1,\n",
    "               'platelets': 167300,\n",
    "               'serum_creatinine': 50,\n",
    "               'serum_sodium':105,\n",
    "               'sex':1,\n",
    "               'smoking':1,\n",
    "               'time':6\n",
    "            \n",
    "               \n",
    "           }\n",
    "       ]\n",
    "    }\n",
    "input_data = json.dumps(data)\n",
    "\n",
    "headers = {'Content-Type': 'application/json'}\n",
    "headers['Authorization'] = f'Bearer {key}'\n",
    "\n",
    "response = requests.post(scoringuri, input_data, headers = headers)\n",
    "print(response.text)"
   ]
  },
  {
   "cell_type": "markdown",
   "metadata": {
    "collapsed": true,
    "gather": {
     "logged": 1598432765711
    },
    "jupyter": {
     "outputs_hidden": false,
     "source_hidden": false
    },
    "nteract": {
     "transient": {
      "deleting": false
     }
    }
   },
   "source": [
    "TODO: In the cell below, print the logs of the web service and delete the service"
   ]
  },
  {
   "cell_type": "code",
   "execution_count": 21,
   "metadata": {
    "scrolled": true
   },
   "outputs": [
    {
     "name": "stdout",
     "output_type": "stream",
     "text": [
      "2021-01-15T11:26:54,433852921+00:00 - gunicorn/run \n",
      "2021-01-15T11:26:54,437092234+00:00 - nginx/run \n",
      "2021-01-15T11:26:54,437155434+00:00 - rsyslog/run \n",
      "2021-01-15T11:26:54,437686336+00:00 - iot-server/run \n",
      "rsyslogd: /azureml-envs/azureml_265db83b0c6014ce472c5de2f0b97e04/lib/libuuid.so.1: no version information available (required by rsyslogd)\n",
      "/usr/sbin/nginx: /azureml-envs/azureml_265db83b0c6014ce472c5de2f0b97e04/lib/libcrypto.so.1.0.0: no version information available (required by /usr/sbin/nginx)\n",
      "/usr/sbin/nginx: /azureml-envs/azureml_265db83b0c6014ce472c5de2f0b97e04/lib/libcrypto.so.1.0.0: no version information available (required by /usr/sbin/nginx)\n",
      "/usr/sbin/nginx: /azureml-envs/azureml_265db83b0c6014ce472c5de2f0b97e04/lib/libssl.so.1.0.0: no version information available (required by /usr/sbin/nginx)\n",
      "/usr/sbin/nginx: /azureml-envs/azureml_265db83b0c6014ce472c5de2f0b97e04/lib/libssl.so.1.0.0: no version information available (required by /usr/sbin/nginx)\n",
      "/usr/sbin/nginx: /azureml-envs/azureml_265db83b0c6014ce472c5de2f0b97e04/lib/libssl.so.1.0.0: no version information available (required by /usr/sbin/nginx)\n",
      "EdgeHubConnectionString and IOTEDGE_IOTHUBHOSTNAME are not set. Exiting...\n",
      "2021-01-15T11:26:54,600806258+00:00 - iot-server/finish 1 0\n",
      "2021-01-15T11:26:54,602273864+00:00 - Exit code 1 is normal. Not restarting iot-server.\n",
      "Starting gunicorn 19.9.0\n",
      "Listening at: http://127.0.0.1:31311 (14)\n",
      "Using worker: sync\n",
      "worker timeout is set to 300\n",
      "Booting worker with pid: 42\n",
      "SPARK_HOME not set. Skipping PySpark Initialization.\n",
      "Generating new fontManager, this may take some time...\n",
      "Initializing logger\n",
      "2021-01-15 11:26:58,140 | root | INFO | Starting up app insights client\n",
      "2021-01-15 11:26:58,141 | root | INFO | Starting up request id generator\n",
      "2021-01-15 11:26:58,141 | root | INFO | Starting up app insight hooks\n",
      "2021-01-15 11:26:58,141 | root | INFO | Invoking user's init function\n",
      "2021-01-15 11:26:59,896 | root | INFO | Users's init has completed successfully\n",
      "2021-01-15 11:26:59,899 | root | INFO | Skipping middleware: dbg_model_info as it's not enabled.\n",
      "2021-01-15 11:26:59,899 | root | INFO | Skipping middleware: dbg_resource_usage as it's not enabled.\n",
      "2021-01-15 11:26:59,900 | root | INFO | Scoring timeout is found from os.environ: 60000 ms\n",
      "2021-01-15 11:27:07,235 | root | INFO | Swagger file not present\n",
      "2021-01-15 11:27:07,235 | root | INFO | 404\n",
      "127.0.0.1 - - [15/Jan/2021:11:27:07 +0000] \"GET /swagger.json HTTP/1.0\" 404 19 \"-\" \"Go-http-client/1.1\"\n",
      "2021-01-15 11:27:09,171 | root | INFO | Swagger file not present\n",
      "2021-01-15 11:27:09,171 | root | INFO | 404\n",
      "127.0.0.1 - - [15/Jan/2021:11:27:09 +0000] \"GET /swagger.json HTTP/1.0\" 404 19 \"-\" \"Go-http-client/1.1\"\n",
      "2021-01-15 11:31:03,072 | root | INFO | Validation Request Content-Type\n",
      "2021-01-15 11:31:03,073 | root | INFO | Scoring Timer is set to 60.0 seconds\n",
      "2021-01-15 11:31:03,177 | root | INFO | 200\n",
      "127.0.0.1 - - [15/Jan/2021:11:31:03 +0000] \"POST /score HTTP/1.0\" 200 6 \"-\" \"python-requests/2.25.0\"\n",
      "2021-01-15 11:31:48,276 | root | INFO | Swagger file not present\n",
      "2021-01-15 11:31:48,276 | root | INFO | 404\n",
      "127.0.0.1 - - [15/Jan/2021:11:31:48 +0000] \"GET /swagger.json HTTP/1.0\" 404 19 \"-\" \"Go-http-client/1.1\"\n",
      "2021-01-15 11:31:49,899 | root | INFO | Swagger file not present\n",
      "2021-01-15 11:31:49,899 | root | INFO | 404\n",
      "127.0.0.1 - - [15/Jan/2021:11:31:49 +0000] \"GET /swagger.json HTTP/1.0\" 404 19 \"-\" \"Go-http-client/1.1\"\n",
      "\n"
     ]
    }
   ],
   "source": [
    "from azureml.core import Workspace\n",
    "from azureml.core.webservice import Webservice\n",
    "\n",
    "# Requires the config to be downloaded first to the current working directory\n",
    "ws = Workspace.from_config()\n",
    "\n",
    "\n",
    "# load existing web service\n",
    "service = Webservice(name=\"aml-service\", workspace=ws)\n",
    "service.update(enable_app_insights=True)\n",
    "logs = service.get_logs()\n",
    "\n",
    "print(logs)"
   ]
  },
  {
   "cell_type": "code",
   "execution_count": 23,
   "metadata": {
    "jupyter": {
     "outputs_hidden": false,
     "source_hidden": false
    },
    "nteract": {
     "transient": {
      "deleting": false
     }
    }
   },
   "outputs": [
    {
     "name": "stdout",
     "output_type": "stream",
     "text": [
      "AciWebservice(workspace=Workspace.create(name='quick-starts-ws-134744', subscription_id='3d1a56d2-7c81-4118-9790-f85d1acf0c77', resource_group='aml-quickstarts-134744'), name=aml-service, image_id=None, compute_type=None, state=ACI, scoring_uri=Deleting, tags=http://ab113c9e-510a-4556-bb40-4c9317d9e711.southcentralus.azurecontainer.io/score, properties={}, created_by={'hasInferenceSchema': 'False', 'hasHttps': 'False'})\n"
     ]
    }
   ],
   "source": [
    "service.delete()\n",
    "print(service)\n"
   ]
  },
  {
   "cell_type": "code",
   "execution_count": 24,
   "metadata": {},
   "outputs": [
    {
     "name": "stdout",
     "output_type": "stream",
     "text": [
      "Current provisioning state of AmlCompute is \"Deleting\"\n",
      "\n",
      "Current provisioning state of AmlCompute is \"Deleting\"\n",
      "\n",
      "Current provisioning state of AmlCompute is \"Deleting\"\n",
      "\n"
     ]
    }
   ],
   "source": [
    "compute_target.delete()"
   ]
  }
 ],
 "metadata": {
  "kernel_info": {
   "name": "python3"
  },
  "kernelspec": {
   "display_name": "Python 3",
   "language": "python",
   "name": "python3"
  },
  "language_info": {
   "codemirror_mode": {
    "name": "ipython",
    "version": 3
   },
   "file_extension": ".py",
   "mimetype": "text/x-python",
   "name": "python",
   "nbconvert_exporter": "python",
   "pygments_lexer": "ipython3",
   "version": "3.6.9"
  },
  "nteract": {
   "version": "nteract-front-end@1.0.0"
  }
 },
 "nbformat": 4,
 "nbformat_minor": 2
}
